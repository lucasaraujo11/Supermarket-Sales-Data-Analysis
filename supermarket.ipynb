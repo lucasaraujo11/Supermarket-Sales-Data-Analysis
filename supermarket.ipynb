{
 "cells": [
  {
   "cell_type": "code",
   "execution_count": 1,
   "id": "3b3b54cc",
   "metadata": {
    "execution": {
     "iopub.execute_input": "2025-05-28T10:50:16.385181Z",
     "iopub.status.busy": "2025-05-28T10:50:16.384683Z",
     "iopub.status.idle": "2025-05-28T10:50:20.714614Z",
     "shell.execute_reply": "2025-05-28T10:50:20.713552Z"
    },
    "papermill": {
     "duration": 4.338992,
     "end_time": "2025-05-28T10:50:20.716466",
     "exception": false,
     "start_time": "2025-05-28T10:50:16.377474",
     "status": "completed"
    },
    "tags": []
   },
   "outputs": [],
   "source": [
    "# libraries\n",
    "import pandas as pd\n",
    "import numpy as np\n",
    "import plotly.express as px\n",
    "import plotly.graph_objects as go\n",
    "\n",
    "import matplotlib.pyplot as plt\n",
    "import matplotlib.ticker as mtick\n",
    "import matplotlib.dates as mdates\n",
    "\n",
    "from scipy.interpolate import make_interp_spline"
   ]
  },
  {
   "cell_type": "code",
   "execution_count": 2,
   "id": "8bd2683a",
   "metadata": {
    "execution": {
     "iopub.execute_input": "2025-05-28T10:50:20.725881Z",
     "iopub.status.busy": "2025-05-28T10:50:20.725290Z",
     "iopub.status.idle": "2025-05-28T10:50:22.843425Z",
     "shell.execute_reply": "2025-05-28T10:50:22.842440Z"
    },
    "papermill": {
     "duration": 2.124801,
     "end_time": "2025-05-28T10:50:22.845125",
     "exception": false,
     "start_time": "2025-05-28T10:50:20.720324",
     "status": "completed"
    },
    "tags": []
   },
   "outputs": [],
   "source": [
    "# datasets\n",
    "items_data = pd.read_csv('/kaggle/input/supermarket-sales-data/annex1.csv')\n",
    "items_checkout = pd.read_csv('/kaggle/input/supermarket-sales-data/annex2.csv')\n",
    "items_wholesale_price = pd.read_csv('/kaggle/input/supermarket-sales-data/annex3.csv')\n",
    "items_loss_rate = pd.read_csv('/kaggle/input/supermarket-sales-data/annex4.csv')"
   ]
  },
  {
   "cell_type": "code",
   "execution_count": 3,
   "id": "83e44c3c",
   "metadata": {
    "execution": {
     "iopub.execute_input": "2025-05-28T10:50:22.855776Z",
     "iopub.status.busy": "2025-05-28T10:50:22.855427Z",
     "iopub.status.idle": "2025-05-28T10:50:22.864474Z",
     "shell.execute_reply": "2025-05-28T10:50:22.863410Z"
    },
    "papermill": {
     "duration": 0.017266,
     "end_time": "2025-05-28T10:50:22.866688",
     "exception": false,
     "start_time": "2025-05-28T10:50:22.849422",
     "status": "completed"
    },
    "tags": []
   },
   "outputs": [
    {
     "data": {
      "text/plain": [
       "Index(['Item Code', 'Item Name', 'Category Code', 'Category Name'], dtype='object')"
      ]
     },
     "execution_count": 3,
     "metadata": {},
     "output_type": "execute_result"
    }
   ],
   "source": [
    "# columns \n",
    "items_data.columns"
   ]
  },
  {
   "cell_type": "code",
   "execution_count": 4,
   "id": "b0fc7910",
   "metadata": {
    "execution": {
     "iopub.execute_input": "2025-05-28T10:50:22.876239Z",
     "iopub.status.busy": "2025-05-28T10:50:22.875920Z",
     "iopub.status.idle": "2025-05-28T10:50:22.882567Z",
     "shell.execute_reply": "2025-05-28T10:50:22.881630Z"
    },
    "papermill": {
     "duration": 0.013617,
     "end_time": "2025-05-28T10:50:22.884166",
     "exception": false,
     "start_time": "2025-05-28T10:50:22.870549",
     "status": "completed"
    },
    "tags": []
   },
   "outputs": [
    {
     "data": {
      "text/plain": [
       "Index(['Date', 'Time', 'Item Code', 'Quantity Sold (kilo)',\n",
       "       'Unit Selling Price (RMB/kg)', 'Sale or Return', 'Discount (Yes/No)'],\n",
       "      dtype='object')"
      ]
     },
     "execution_count": 4,
     "metadata": {},
     "output_type": "execute_result"
    }
   ],
   "source": [
    "# columns \n",
    "items_checkout.columns"
   ]
  },
  {
   "cell_type": "code",
   "execution_count": 5,
   "id": "bed4ba46",
   "metadata": {
    "execution": {
     "iopub.execute_input": "2025-05-28T10:50:22.893448Z",
     "iopub.status.busy": "2025-05-28T10:50:22.893118Z",
     "iopub.status.idle": "2025-05-28T10:50:22.899232Z",
     "shell.execute_reply": "2025-05-28T10:50:22.898400Z"
    },
    "papermill": {
     "duration": 0.012454,
     "end_time": "2025-05-28T10:50:22.900737",
     "exception": false,
     "start_time": "2025-05-28T10:50:22.888283",
     "status": "completed"
    },
    "tags": []
   },
   "outputs": [
    {
     "data": {
      "text/plain": [
       "Index(['Date', 'Item Code', 'Wholesale Price (RMB/kg)'], dtype='object')"
      ]
     },
     "execution_count": 5,
     "metadata": {},
     "output_type": "execute_result"
    }
   ],
   "source": [
    "# columns\n",
    "items_wholesale_price.columns"
   ]
  },
  {
   "cell_type": "code",
   "execution_count": 6,
   "id": "8eaf716d",
   "metadata": {
    "execution": {
     "iopub.execute_input": "2025-05-28T10:50:22.910090Z",
     "iopub.status.busy": "2025-05-28T10:50:22.909770Z",
     "iopub.status.idle": "2025-05-28T10:50:22.916310Z",
     "shell.execute_reply": "2025-05-28T10:50:22.915216Z"
    },
    "papermill": {
     "duration": 0.01343,
     "end_time": "2025-05-28T10:50:22.918384",
     "exception": false,
     "start_time": "2025-05-28T10:50:22.904954",
     "status": "completed"
    },
    "tags": []
   },
   "outputs": [
    {
     "data": {
      "text/plain": [
       "Index(['Item Code', 'Item Name', 'Loss Rate (%)'], dtype='object')"
      ]
     },
     "execution_count": 6,
     "metadata": {},
     "output_type": "execute_result"
    }
   ],
   "source": [
    "# columns\n",
    "items_loss_rate.columns"
   ]
  },
  {
   "cell_type": "code",
   "execution_count": 7,
   "id": "8cee2c17",
   "metadata": {
    "execution": {
     "iopub.execute_input": "2025-05-28T10:50:22.930819Z",
     "iopub.status.busy": "2025-05-28T10:50:22.930486Z",
     "iopub.status.idle": "2025-05-28T10:50:22.956042Z",
     "shell.execute_reply": "2025-05-28T10:50:22.955008Z"
    },
    "papermill": {
     "duration": 0.033968,
     "end_time": "2025-05-28T10:50:22.957779",
     "exception": false,
     "start_time": "2025-05-28T10:50:22.923811",
     "status": "completed"
    },
    "tags": []
   },
   "outputs": [
    {
     "data": {
      "text/html": [
       "<div>\n",
       "<style scoped>\n",
       "    .dataframe tbody tr th:only-of-type {\n",
       "        vertical-align: middle;\n",
       "    }\n",
       "\n",
       "    .dataframe tbody tr th {\n",
       "        vertical-align: top;\n",
       "    }\n",
       "\n",
       "    .dataframe thead th {\n",
       "        text-align: right;\n",
       "    }\n",
       "</style>\n",
       "<table border=\"1\" class=\"dataframe\">\n",
       "  <thead>\n",
       "    <tr style=\"text-align: right;\">\n",
       "      <th></th>\n",
       "      <th>Item Code</th>\n",
       "      <th>Item Name</th>\n",
       "      <th>Category Code</th>\n",
       "      <th>Category Name</th>\n",
       "    </tr>\n",
       "  </thead>\n",
       "  <tbody>\n",
       "    <tr>\n",
       "      <th>0</th>\n",
       "      <td>102900005115168</td>\n",
       "      <td>Niushou Shengcai</td>\n",
       "      <td>1011010101</td>\n",
       "      <td>Flower/Leaf Vegetables</td>\n",
       "    </tr>\n",
       "    <tr>\n",
       "      <th>1</th>\n",
       "      <td>102900005115199</td>\n",
       "      <td>Sichuan Red Cedar</td>\n",
       "      <td>1011010101</td>\n",
       "      <td>Flower/Leaf Vegetables</td>\n",
       "    </tr>\n",
       "    <tr>\n",
       "      <th>2</th>\n",
       "      <td>102900005115625</td>\n",
       "      <td>Local Xiaomao Cabbage</td>\n",
       "      <td>1011010101</td>\n",
       "      <td>Flower/Leaf Vegetables</td>\n",
       "    </tr>\n",
       "  </tbody>\n",
       "</table>\n",
       "</div>"
      ],
      "text/plain": [
       "         Item Code              Item Name  Category Code  \\\n",
       "0  102900005115168       Niushou Shengcai     1011010101   \n",
       "1  102900005115199      Sichuan Red Cedar     1011010101   \n",
       "2  102900005115625  Local Xiaomao Cabbage     1011010101   \n",
       "\n",
       "            Category Name  \n",
       "0  Flower/Leaf Vegetables  \n",
       "1  Flower/Leaf Vegetables  \n",
       "2  Flower/Leaf Vegetables  "
      ]
     },
     "execution_count": 7,
     "metadata": {},
     "output_type": "execute_result"
    }
   ],
   "source": [
    "# head \n",
    "items_data.head(3)"
   ]
  },
  {
   "cell_type": "code",
   "execution_count": 8,
   "id": "c3ef9514",
   "metadata": {
    "execution": {
     "iopub.execute_input": "2025-05-28T10:50:22.967941Z",
     "iopub.status.busy": "2025-05-28T10:50:22.967594Z",
     "iopub.status.idle": "2025-05-28T10:50:22.980600Z",
     "shell.execute_reply": "2025-05-28T10:50:22.979454Z"
    },
    "papermill": {
     "duration": 0.020617,
     "end_time": "2025-05-28T10:50:22.982710",
     "exception": false,
     "start_time": "2025-05-28T10:50:22.962093",
     "status": "completed"
    },
    "tags": []
   },
   "outputs": [
    {
     "data": {
      "text/html": [
       "<div>\n",
       "<style scoped>\n",
       "    .dataframe tbody tr th:only-of-type {\n",
       "        vertical-align: middle;\n",
       "    }\n",
       "\n",
       "    .dataframe tbody tr th {\n",
       "        vertical-align: top;\n",
       "    }\n",
       "\n",
       "    .dataframe thead th {\n",
       "        text-align: right;\n",
       "    }\n",
       "</style>\n",
       "<table border=\"1\" class=\"dataframe\">\n",
       "  <thead>\n",
       "    <tr style=\"text-align: right;\">\n",
       "      <th></th>\n",
       "      <th>Date</th>\n",
       "      <th>Time</th>\n",
       "      <th>Item Code</th>\n",
       "      <th>Quantity Sold (kilo)</th>\n",
       "      <th>Unit Selling Price (RMB/kg)</th>\n",
       "      <th>Sale or Return</th>\n",
       "      <th>Discount (Yes/No)</th>\n",
       "    </tr>\n",
       "  </thead>\n",
       "  <tbody>\n",
       "    <tr>\n",
       "      <th>0</th>\n",
       "      <td>2020-07-01</td>\n",
       "      <td>09:15:07.924</td>\n",
       "      <td>102900005117056</td>\n",
       "      <td>0.396</td>\n",
       "      <td>7.6</td>\n",
       "      <td>sale</td>\n",
       "      <td>No</td>\n",
       "    </tr>\n",
       "    <tr>\n",
       "      <th>1</th>\n",
       "      <td>2020-07-01</td>\n",
       "      <td>09:17:27.295</td>\n",
       "      <td>102900005115960</td>\n",
       "      <td>0.849</td>\n",
       "      <td>3.2</td>\n",
       "      <td>sale</td>\n",
       "      <td>No</td>\n",
       "    </tr>\n",
       "    <tr>\n",
       "      <th>2</th>\n",
       "      <td>2020-07-01</td>\n",
       "      <td>09:17:33.905</td>\n",
       "      <td>102900005117056</td>\n",
       "      <td>0.409</td>\n",
       "      <td>7.6</td>\n",
       "      <td>sale</td>\n",
       "      <td>No</td>\n",
       "    </tr>\n",
       "  </tbody>\n",
       "</table>\n",
       "</div>"
      ],
      "text/plain": [
       "         Date          Time        Item Code  Quantity Sold (kilo)  \\\n",
       "0  2020-07-01  09:15:07.924  102900005117056                 0.396   \n",
       "1  2020-07-01  09:17:27.295  102900005115960                 0.849   \n",
       "2  2020-07-01  09:17:33.905  102900005117056                 0.409   \n",
       "\n",
       "   Unit Selling Price (RMB/kg) Sale or Return Discount (Yes/No)  \n",
       "0                          7.6           sale                No  \n",
       "1                          3.2           sale                No  \n",
       "2                          7.6           sale                No  "
      ]
     },
     "execution_count": 8,
     "metadata": {},
     "output_type": "execute_result"
    }
   ],
   "source": [
    "# head \n",
    "items_checkout.head(3)"
   ]
  },
  {
   "cell_type": "code",
   "execution_count": 9,
   "id": "bdb50d17",
   "metadata": {
    "execution": {
     "iopub.execute_input": "2025-05-28T10:50:22.992565Z",
     "iopub.status.busy": "2025-05-28T10:50:22.992201Z",
     "iopub.status.idle": "2025-05-28T10:50:23.002191Z",
     "shell.execute_reply": "2025-05-28T10:50:23.001136Z"
    },
    "papermill": {
     "duration": 0.016684,
     "end_time": "2025-05-28T10:50:23.003834",
     "exception": false,
     "start_time": "2025-05-28T10:50:22.987150",
     "status": "completed"
    },
    "tags": []
   },
   "outputs": [
    {
     "data": {
      "text/html": [
       "<div>\n",
       "<style scoped>\n",
       "    .dataframe tbody tr th:only-of-type {\n",
       "        vertical-align: middle;\n",
       "    }\n",
       "\n",
       "    .dataframe tbody tr th {\n",
       "        vertical-align: top;\n",
       "    }\n",
       "\n",
       "    .dataframe thead th {\n",
       "        text-align: right;\n",
       "    }\n",
       "</style>\n",
       "<table border=\"1\" class=\"dataframe\">\n",
       "  <thead>\n",
       "    <tr style=\"text-align: right;\">\n",
       "      <th></th>\n",
       "      <th>Date</th>\n",
       "      <th>Item Code</th>\n",
       "      <th>Wholesale Price (RMB/kg)</th>\n",
       "    </tr>\n",
       "  </thead>\n",
       "  <tbody>\n",
       "    <tr>\n",
       "      <th>0</th>\n",
       "      <td>2020-07-01</td>\n",
       "      <td>102900005115762</td>\n",
       "      <td>3.88</td>\n",
       "    </tr>\n",
       "    <tr>\n",
       "      <th>1</th>\n",
       "      <td>2020-07-01</td>\n",
       "      <td>102900005115779</td>\n",
       "      <td>6.72</td>\n",
       "    </tr>\n",
       "    <tr>\n",
       "      <th>2</th>\n",
       "      <td>2020-07-01</td>\n",
       "      <td>102900005115786</td>\n",
       "      <td>3.19</td>\n",
       "    </tr>\n",
       "  </tbody>\n",
       "</table>\n",
       "</div>"
      ],
      "text/plain": [
       "         Date        Item Code  Wholesale Price (RMB/kg)\n",
       "0  2020-07-01  102900005115762                      3.88\n",
       "1  2020-07-01  102900005115779                      6.72\n",
       "2  2020-07-01  102900005115786                      3.19"
      ]
     },
     "execution_count": 9,
     "metadata": {},
     "output_type": "execute_result"
    }
   ],
   "source": [
    "# head \n",
    "items_wholesale_price.head(3)"
   ]
  },
  {
   "cell_type": "code",
   "execution_count": 10,
   "id": "072b4428",
   "metadata": {
    "execution": {
     "iopub.execute_input": "2025-05-28T10:50:23.014612Z",
     "iopub.status.busy": "2025-05-28T10:50:23.014257Z",
     "iopub.status.idle": "2025-05-28T10:50:23.023399Z",
     "shell.execute_reply": "2025-05-28T10:50:23.022478Z"
    },
    "papermill": {
     "duration": 0.016278,
     "end_time": "2025-05-28T10:50:23.025059",
     "exception": false,
     "start_time": "2025-05-28T10:50:23.008781",
     "status": "completed"
    },
    "tags": []
   },
   "outputs": [
    {
     "data": {
      "text/html": [
       "<div>\n",
       "<style scoped>\n",
       "    .dataframe tbody tr th:only-of-type {\n",
       "        vertical-align: middle;\n",
       "    }\n",
       "\n",
       "    .dataframe tbody tr th {\n",
       "        vertical-align: top;\n",
       "    }\n",
       "\n",
       "    .dataframe thead th {\n",
       "        text-align: right;\n",
       "    }\n",
       "</style>\n",
       "<table border=\"1\" class=\"dataframe\">\n",
       "  <thead>\n",
       "    <tr style=\"text-align: right;\">\n",
       "      <th></th>\n",
       "      <th>Item Code</th>\n",
       "      <th>Item Name</th>\n",
       "      <th>Loss Rate (%)</th>\n",
       "    </tr>\n",
       "  </thead>\n",
       "  <tbody>\n",
       "    <tr>\n",
       "      <th>0</th>\n",
       "      <td>102900005115168</td>\n",
       "      <td>Niushou Shengcai</td>\n",
       "      <td>4.39</td>\n",
       "    </tr>\n",
       "    <tr>\n",
       "      <th>1</th>\n",
       "      <td>102900005115199</td>\n",
       "      <td>Sichuan Red Cedar</td>\n",
       "      <td>10.46</td>\n",
       "    </tr>\n",
       "    <tr>\n",
       "      <th>2</th>\n",
       "      <td>102900005115250</td>\n",
       "      <td>Xixia Black Mushroom (1)</td>\n",
       "      <td>10.80</td>\n",
       "    </tr>\n",
       "  </tbody>\n",
       "</table>\n",
       "</div>"
      ],
      "text/plain": [
       "         Item Code                 Item Name  Loss Rate (%)\n",
       "0  102900005115168          Niushou Shengcai           4.39\n",
       "1  102900005115199         Sichuan Red Cedar          10.46\n",
       "2  102900005115250  Xixia Black Mushroom (1)          10.80"
      ]
     },
     "execution_count": 10,
     "metadata": {},
     "output_type": "execute_result"
    }
   ],
   "source": [
    "# head \n",
    "items_loss_rate.head(3)"
   ]
  },
  {
   "cell_type": "code",
   "execution_count": 11,
   "id": "d297a416",
   "metadata": {
    "execution": {
     "iopub.execute_input": "2025-05-28T10:50:23.036810Z",
     "iopub.status.busy": "2025-05-28T10:50:23.036500Z",
     "iopub.status.idle": "2025-05-28T10:50:23.043153Z",
     "shell.execute_reply": "2025-05-28T10:50:23.041810Z"
    },
    "papermill": {
     "duration": 0.014502,
     "end_time": "2025-05-28T10:50:23.044910",
     "exception": false,
     "start_time": "2025-05-28T10:50:23.030408",
     "status": "completed"
    },
    "tags": []
   },
   "outputs": [
    {
     "name": "stdout",
     "output_type": "stream",
     "text": [
      "Total rows 251 and colums 4 of items_data\n",
      "Total rows 878503 and colums 7 of items_checkout\n",
      "Total rows 55982 and colums 3 of items_wholesale_price\n",
      "Total rows 251 and colums 3 of items_loss_rate\n"
     ]
    }
   ],
   "source": [
    "# shapes of:\n",
    "print('Total rows {} and colums {} of items_data'.format(items_data.shape[0], items_data.shape[1]))\n",
    "print('Total rows {} and colums {} of items_checkout'.format(items_checkout.shape[0], items_checkout.shape[1]))\n",
    "print('Total rows {} and colums {} of items_wholesale_price'.format(items_wholesale_price.shape[0], items_wholesale_price.shape[1]))\n",
    "print('Total rows {} and colums {} of items_loss_rate'.format(items_loss_rate.shape[0], items_loss_rate.shape[1]))"
   ]
  },
  {
   "cell_type": "code",
   "execution_count": 12,
   "id": "d4bcf24d",
   "metadata": {
    "execution": {
     "iopub.execute_input": "2025-05-28T10:50:23.056006Z",
     "iopub.status.busy": "2025-05-28T10:50:23.055685Z",
     "iopub.status.idle": "2025-05-28T10:50:23.080119Z",
     "shell.execute_reply": "2025-05-28T10:50:23.078836Z"
    },
    "papermill": {
     "duration": 0.032087,
     "end_time": "2025-05-28T10:50:23.081846",
     "exception": false,
     "start_time": "2025-05-28T10:50:23.049759",
     "status": "completed"
    },
    "tags": []
   },
   "outputs": [
    {
     "name": "stdout",
     "output_type": "stream",
     "text": [
      "<class 'pandas.core.frame.DataFrame'>\n",
      "RangeIndex: 251 entries, 0 to 250\n",
      "Data columns (total 4 columns):\n",
      " #   Column         Non-Null Count  Dtype \n",
      "---  ------         --------------  ----- \n",
      " 0   Item Code      251 non-null    int64 \n",
      " 1   Item Name      251 non-null    object\n",
      " 2   Category Code  251 non-null    int64 \n",
      " 3   Category Name  251 non-null    object\n",
      "dtypes: int64(2), object(2)\n",
      "memory usage: 8.0+ KB\n"
     ]
    }
   ],
   "source": [
    "# information of\n",
    "items_data.info()"
   ]
  },
  {
   "cell_type": "code",
   "execution_count": 13,
   "id": "f9e6acd4",
   "metadata": {
    "execution": {
     "iopub.execute_input": "2025-05-28T10:50:23.093244Z",
     "iopub.status.busy": "2025-05-28T10:50:23.092900Z",
     "iopub.status.idle": "2025-05-28T10:50:23.288948Z",
     "shell.execute_reply": "2025-05-28T10:50:23.287920Z"
    },
    "papermill": {
     "duration": 0.203229,
     "end_time": "2025-05-28T10:50:23.290438",
     "exception": false,
     "start_time": "2025-05-28T10:50:23.087209",
     "status": "completed"
    },
    "tags": []
   },
   "outputs": [
    {
     "name": "stdout",
     "output_type": "stream",
     "text": [
      "<class 'pandas.core.frame.DataFrame'>\n",
      "RangeIndex: 878503 entries, 0 to 878502\n",
      "Data columns (total 7 columns):\n",
      " #   Column                       Non-Null Count   Dtype  \n",
      "---  ------                       --------------   -----  \n",
      " 0   Date                         878503 non-null  object \n",
      " 1   Time                         878503 non-null  object \n",
      " 2   Item Code                    878503 non-null  int64  \n",
      " 3   Quantity Sold (kilo)         878503 non-null  float64\n",
      " 4   Unit Selling Price (RMB/kg)  878503 non-null  float64\n",
      " 5   Sale or Return               878503 non-null  object \n",
      " 6   Discount (Yes/No)            878503 non-null  object \n",
      "dtypes: float64(2), int64(1), object(4)\n",
      "memory usage: 46.9+ MB\n"
     ]
    }
   ],
   "source": [
    "# information of\n",
    "items_checkout.info()"
   ]
  },
  {
   "cell_type": "code",
   "execution_count": 14,
   "id": "debe70a5",
   "metadata": {
    "execution": {
     "iopub.execute_input": "2025-05-28T10:50:23.301354Z",
     "iopub.status.busy": "2025-05-28T10:50:23.301019Z",
     "iopub.status.idle": "2025-05-28T10:50:23.315025Z",
     "shell.execute_reply": "2025-05-28T10:50:23.313879Z"
    },
    "papermill": {
     "duration": 0.021092,
     "end_time": "2025-05-28T10:50:23.316554",
     "exception": false,
     "start_time": "2025-05-28T10:50:23.295462",
     "status": "completed"
    },
    "tags": []
   },
   "outputs": [
    {
     "name": "stdout",
     "output_type": "stream",
     "text": [
      "<class 'pandas.core.frame.DataFrame'>\n",
      "RangeIndex: 55982 entries, 0 to 55981\n",
      "Data columns (total 3 columns):\n",
      " #   Column                    Non-Null Count  Dtype  \n",
      "---  ------                    --------------  -----  \n",
      " 0   Date                      55982 non-null  object \n",
      " 1   Item Code                 55982 non-null  int64  \n",
      " 2   Wholesale Price (RMB/kg)  55982 non-null  float64\n",
      "dtypes: float64(1), int64(1), object(1)\n",
      "memory usage: 1.3+ MB\n"
     ]
    }
   ],
   "source": [
    "# information of \n",
    "items_wholesale_price.info()"
   ]
  },
  {
   "cell_type": "code",
   "execution_count": 15,
   "id": "cc0b9e6e",
   "metadata": {
    "execution": {
     "iopub.execute_input": "2025-05-28T10:50:23.327652Z",
     "iopub.status.busy": "2025-05-28T10:50:23.327322Z",
     "iopub.status.idle": "2025-05-28T10:50:23.339978Z",
     "shell.execute_reply": "2025-05-28T10:50:23.338656Z"
    },
    "papermill": {
     "duration": 0.020114,
     "end_time": "2025-05-28T10:50:23.341721",
     "exception": false,
     "start_time": "2025-05-28T10:50:23.321607",
     "status": "completed"
    },
    "tags": []
   },
   "outputs": [
    {
     "name": "stdout",
     "output_type": "stream",
     "text": [
      "<class 'pandas.core.frame.DataFrame'>\n",
      "RangeIndex: 251 entries, 0 to 250\n",
      "Data columns (total 3 columns):\n",
      " #   Column         Non-Null Count  Dtype  \n",
      "---  ------         --------------  -----  \n",
      " 0   Item Code      251 non-null    int64  \n",
      " 1   Item Name      251 non-null    object \n",
      " 2   Loss Rate (%)  251 non-null    float64\n",
      "dtypes: float64(1), int64(1), object(1)\n",
      "memory usage: 6.0+ KB\n"
     ]
    }
   ],
   "source": [
    "# information of\n",
    "items_loss_rate.info()"
   ]
  },
  {
   "cell_type": "markdown",
   "id": "a94386cf",
   "metadata": {
    "papermill": {
     "duration": 0.00547,
     "end_time": "2025-05-28T10:50:23.352379",
     "exception": false,
     "start_time": "2025-05-28T10:50:23.346909",
     "status": "completed"
    },
    "tags": []
   },
   "source": [
    "## 🔄 Data Preprocessing"
   ]
  },
  {
   "cell_type": "code",
   "execution_count": 16,
   "id": "bf7399f0",
   "metadata": {
    "execution": {
     "iopub.execute_input": "2025-05-28T10:50:23.364608Z",
     "iopub.status.busy": "2025-05-28T10:50:23.364279Z",
     "iopub.status.idle": "2025-05-28T10:50:23.526657Z",
     "shell.execute_reply": "2025-05-28T10:50:23.525513Z"
    },
    "papermill": {
     "duration": 0.170035,
     "end_time": "2025-05-28T10:50:23.528226",
     "exception": false,
     "start_time": "2025-05-28T10:50:23.358191",
     "status": "completed"
    },
    "tags": []
   },
   "outputs": [
    {
     "data": {
      "text/html": [
       "<div>\n",
       "<style scoped>\n",
       "    .dataframe tbody tr th:only-of-type {\n",
       "        vertical-align: middle;\n",
       "    }\n",
       "\n",
       "    .dataframe tbody tr th {\n",
       "        vertical-align: top;\n",
       "    }\n",
       "\n",
       "    .dataframe thead th {\n",
       "        text-align: right;\n",
       "    }\n",
       "</style>\n",
       "<table border=\"1\" class=\"dataframe\">\n",
       "  <thead>\n",
       "    <tr style=\"text-align: right;\">\n",
       "      <th></th>\n",
       "      <th>Date</th>\n",
       "      <th>Time</th>\n",
       "      <th>Item Code</th>\n",
       "      <th>Quantity Sold (kilo)</th>\n",
       "      <th>Unit Selling Price (RMB/kg)</th>\n",
       "      <th>Sale or Return</th>\n",
       "      <th>Discount (Yes/No)</th>\n",
       "      <th>Item Name</th>\n",
       "      <th>Category Code</th>\n",
       "      <th>Category Name</th>\n",
       "    </tr>\n",
       "  </thead>\n",
       "  <tbody>\n",
       "    <tr>\n",
       "      <th>0</th>\n",
       "      <td>2020-07-01</td>\n",
       "      <td>09:15:07.924</td>\n",
       "      <td>102900005117056</td>\n",
       "      <td>0.396</td>\n",
       "      <td>7.6</td>\n",
       "      <td>sale</td>\n",
       "      <td>No</td>\n",
       "      <td>Paopaojiao (Jingpin)</td>\n",
       "      <td>1011010504</td>\n",
       "      <td>Capsicum</td>\n",
       "    </tr>\n",
       "    <tr>\n",
       "      <th>1</th>\n",
       "      <td>2020-07-01</td>\n",
       "      <td>09:17:27.295</td>\n",
       "      <td>102900005115960</td>\n",
       "      <td>0.849</td>\n",
       "      <td>3.2</td>\n",
       "      <td>sale</td>\n",
       "      <td>No</td>\n",
       "      <td>Chinese Cabbage</td>\n",
       "      <td>1011010101</td>\n",
       "      <td>Flower/Leaf Vegetables</td>\n",
       "    </tr>\n",
       "    <tr>\n",
       "      <th>2</th>\n",
       "      <td>2020-07-01</td>\n",
       "      <td>09:17:33.905</td>\n",
       "      <td>102900005117056</td>\n",
       "      <td>0.409</td>\n",
       "      <td>7.6</td>\n",
       "      <td>sale</td>\n",
       "      <td>No</td>\n",
       "      <td>Paopaojiao (Jingpin)</td>\n",
       "      <td>1011010504</td>\n",
       "      <td>Capsicum</td>\n",
       "    </tr>\n",
       "    <tr>\n",
       "      <th>3</th>\n",
       "      <td>2020-07-01</td>\n",
       "      <td>09:19:45.450</td>\n",
       "      <td>102900005115823</td>\n",
       "      <td>0.421</td>\n",
       "      <td>10.0</td>\n",
       "      <td>sale</td>\n",
       "      <td>No</td>\n",
       "      <td>Shanghaiqing</td>\n",
       "      <td>1011010101</td>\n",
       "      <td>Flower/Leaf Vegetables</td>\n",
       "    </tr>\n",
       "    <tr>\n",
       "      <th>4</th>\n",
       "      <td>2020-07-01</td>\n",
       "      <td>09:20:23.686</td>\n",
       "      <td>102900005115908</td>\n",
       "      <td>0.539</td>\n",
       "      <td>8.0</td>\n",
       "      <td>sale</td>\n",
       "      <td>No</td>\n",
       "      <td>Caixin</td>\n",
       "      <td>1011010101</td>\n",
       "      <td>Flower/Leaf Vegetables</td>\n",
       "    </tr>\n",
       "  </tbody>\n",
       "</table>\n",
       "</div>"
      ],
      "text/plain": [
       "         Date          Time        Item Code  Quantity Sold (kilo)  \\\n",
       "0  2020-07-01  09:15:07.924  102900005117056                 0.396   \n",
       "1  2020-07-01  09:17:27.295  102900005115960                 0.849   \n",
       "2  2020-07-01  09:17:33.905  102900005117056                 0.409   \n",
       "3  2020-07-01  09:19:45.450  102900005115823                 0.421   \n",
       "4  2020-07-01  09:20:23.686  102900005115908                 0.539   \n",
       "\n",
       "   Unit Selling Price (RMB/kg) Sale or Return Discount (Yes/No)  \\\n",
       "0                          7.6           sale                No   \n",
       "1                          3.2           sale                No   \n",
       "2                          7.6           sale                No   \n",
       "3                         10.0           sale                No   \n",
       "4                          8.0           sale                No   \n",
       "\n",
       "              Item Name  Category Code           Category Name  \n",
       "0  Paopaojiao (Jingpin)     1011010504                Capsicum  \n",
       "1       Chinese Cabbage     1011010101  Flower/Leaf Vegetables  \n",
       "2  Paopaojiao (Jingpin)     1011010504                Capsicum  \n",
       "3          Shanghaiqing     1011010101  Flower/Leaf Vegetables  \n",
       "4                Caixin     1011010101  Flower/Leaf Vegetables  "
      ]
     },
     "execution_count": 16,
     "metadata": {},
     "output_type": "execute_result"
    }
   ],
   "source": [
    "# merge items_checkout with items_data and create df \n",
    "df = pd.merge(items_checkout, items_data)\n",
    "df.head()"
   ]
  },
  {
   "cell_type": "code",
   "execution_count": 17,
   "id": "02bbce36",
   "metadata": {
    "execution": {
     "iopub.execute_input": "2025-05-28T10:50:23.540528Z",
     "iopub.status.busy": "2025-05-28T10:50:23.539889Z",
     "iopub.status.idle": "2025-05-28T10:50:23.634979Z",
     "shell.execute_reply": "2025-05-28T10:50:23.634187Z"
    },
    "papermill": {
     "duration": 0.102917,
     "end_time": "2025-05-28T10:50:23.636673",
     "exception": false,
     "start_time": "2025-05-28T10:50:23.533756",
     "status": "completed"
    },
    "tags": []
   },
   "outputs": [
    {
     "data": {
      "text/plain": [
       "0        2020-07-01\n",
       "1        2020-07-01\n",
       "2        2020-07-01\n",
       "3        2020-07-01\n",
       "4        2020-07-01\n",
       "            ...    \n",
       "878498   2023-06-30\n",
       "878499   2023-06-30\n",
       "878500   2023-06-30\n",
       "878501   2023-06-30\n",
       "878502   2023-06-30\n",
       "Name: Date, Length: 878503, dtype: datetime64[ns]"
      ]
     },
     "execution_count": 17,
     "metadata": {},
     "output_type": "execute_result"
    }
   ],
   "source": [
    "# Convert date format\n",
    "df['Date'] = pd.to_datetime(df['Date'])\n",
    "df['Date']"
   ]
  },
  {
   "cell_type": "code",
   "execution_count": 18,
   "id": "960b26e6",
   "metadata": {
    "execution": {
     "iopub.execute_input": "2025-05-28T10:50:23.650734Z",
     "iopub.status.busy": "2025-05-28T10:50:23.650379Z",
     "iopub.status.idle": "2025-05-28T10:50:23.683600Z",
     "shell.execute_reply": "2025-05-28T10:50:23.682668Z"
    },
    "papermill": {
     "duration": 0.042013,
     "end_time": "2025-05-28T10:50:23.685187",
     "exception": false,
     "start_time": "2025-05-28T10:50:23.643174",
     "status": "completed"
    },
    "tags": []
   },
   "outputs": [
    {
     "data": {
      "text/html": [
       "<div>\n",
       "<style scoped>\n",
       "    .dataframe tbody tr th:only-of-type {\n",
       "        vertical-align: middle;\n",
       "    }\n",
       "\n",
       "    .dataframe tbody tr th {\n",
       "        vertical-align: top;\n",
       "    }\n",
       "\n",
       "    .dataframe thead th {\n",
       "        text-align: right;\n",
       "    }\n",
       "</style>\n",
       "<table border=\"1\" class=\"dataframe\">\n",
       "  <thead>\n",
       "    <tr style=\"text-align: right;\">\n",
       "      <th></th>\n",
       "      <th>Date</th>\n",
       "      <th>Time</th>\n",
       "      <th>Item Code</th>\n",
       "      <th>Quantity Sold (kilo)</th>\n",
       "      <th>Unit Selling Price (RMB/kg)</th>\n",
       "      <th>Sale or Return</th>\n",
       "      <th>Discount (Yes/No)</th>\n",
       "      <th>Item Name</th>\n",
       "      <th>Category Code</th>\n",
       "      <th>Category Name</th>\n",
       "      <th>total_revenue</th>\n",
       "    </tr>\n",
       "  </thead>\n",
       "  <tbody>\n",
       "    <tr>\n",
       "      <th>0</th>\n",
       "      <td>2020-07-01</td>\n",
       "      <td>09:15:07.924</td>\n",
       "      <td>102900005117056</td>\n",
       "      <td>0.396</td>\n",
       "      <td>7.6</td>\n",
       "      <td>sale</td>\n",
       "      <td>No</td>\n",
       "      <td>Paopaojiao (Jingpin)</td>\n",
       "      <td>1011010504</td>\n",
       "      <td>Capsicum</td>\n",
       "      <td>3.0096</td>\n",
       "    </tr>\n",
       "    <tr>\n",
       "      <th>1</th>\n",
       "      <td>2020-07-01</td>\n",
       "      <td>09:17:27.295</td>\n",
       "      <td>102900005115960</td>\n",
       "      <td>0.849</td>\n",
       "      <td>3.2</td>\n",
       "      <td>sale</td>\n",
       "      <td>No</td>\n",
       "      <td>Chinese Cabbage</td>\n",
       "      <td>1011010101</td>\n",
       "      <td>Flower/Leaf Vegetables</td>\n",
       "      <td>2.7168</td>\n",
       "    </tr>\n",
       "    <tr>\n",
       "      <th>2</th>\n",
       "      <td>2020-07-01</td>\n",
       "      <td>09:17:33.905</td>\n",
       "      <td>102900005117056</td>\n",
       "      <td>0.409</td>\n",
       "      <td>7.6</td>\n",
       "      <td>sale</td>\n",
       "      <td>No</td>\n",
       "      <td>Paopaojiao (Jingpin)</td>\n",
       "      <td>1011010504</td>\n",
       "      <td>Capsicum</td>\n",
       "      <td>3.1084</td>\n",
       "    </tr>\n",
       "    <tr>\n",
       "      <th>3</th>\n",
       "      <td>2020-07-01</td>\n",
       "      <td>09:19:45.450</td>\n",
       "      <td>102900005115823</td>\n",
       "      <td>0.421</td>\n",
       "      <td>10.0</td>\n",
       "      <td>sale</td>\n",
       "      <td>No</td>\n",
       "      <td>Shanghaiqing</td>\n",
       "      <td>1011010101</td>\n",
       "      <td>Flower/Leaf Vegetables</td>\n",
       "      <td>4.2100</td>\n",
       "    </tr>\n",
       "    <tr>\n",
       "      <th>4</th>\n",
       "      <td>2020-07-01</td>\n",
       "      <td>09:20:23.686</td>\n",
       "      <td>102900005115908</td>\n",
       "      <td>0.539</td>\n",
       "      <td>8.0</td>\n",
       "      <td>sale</td>\n",
       "      <td>No</td>\n",
       "      <td>Caixin</td>\n",
       "      <td>1011010101</td>\n",
       "      <td>Flower/Leaf Vegetables</td>\n",
       "      <td>4.3120</td>\n",
       "    </tr>\n",
       "  </tbody>\n",
       "</table>\n",
       "</div>"
      ],
      "text/plain": [
       "        Date          Time        Item Code  Quantity Sold (kilo)  \\\n",
       "0 2020-07-01  09:15:07.924  102900005117056                 0.396   \n",
       "1 2020-07-01  09:17:27.295  102900005115960                 0.849   \n",
       "2 2020-07-01  09:17:33.905  102900005117056                 0.409   \n",
       "3 2020-07-01  09:19:45.450  102900005115823                 0.421   \n",
       "4 2020-07-01  09:20:23.686  102900005115908                 0.539   \n",
       "\n",
       "   Unit Selling Price (RMB/kg) Sale or Return Discount (Yes/No)  \\\n",
       "0                          7.6           sale                No   \n",
       "1                          3.2           sale                No   \n",
       "2                          7.6           sale                No   \n",
       "3                         10.0           sale                No   \n",
       "4                          8.0           sale                No   \n",
       "\n",
       "              Item Name  Category Code           Category Name  total_revenue  \n",
       "0  Paopaojiao (Jingpin)     1011010504                Capsicum         3.0096  \n",
       "1       Chinese Cabbage     1011010101  Flower/Leaf Vegetables         2.7168  \n",
       "2  Paopaojiao (Jingpin)     1011010504                Capsicum         3.1084  \n",
       "3          Shanghaiqing     1011010101  Flower/Leaf Vegetables         4.2100  \n",
       "4                Caixin     1011010101  Flower/Leaf Vegetables         4.3120  "
      ]
     },
     "execution_count": 18,
     "metadata": {},
     "output_type": "execute_result"
    }
   ],
   "source": [
    "# create a colum total revenue\n",
    "df[\"total_revenue\"] = df[\"Quantity Sold (kilo)\"] * df[\"Unit Selling Price (RMB/kg)\"]\n",
    "df.head()"
   ]
  },
  {
   "cell_type": "markdown",
   "id": "8ea7fe4e",
   "metadata": {
    "papermill": {
     "duration": 0.005747,
     "end_time": "2025-05-28T10:50:23.696684",
     "exception": false,
     "start_time": "2025-05-28T10:50:23.690937",
     "status": "completed"
    },
    "tags": []
   },
   "source": [
    "## 📊 Exploratory Data Analysis (EDA)"
   ]
  },
  {
   "cell_type": "code",
   "execution_count": 19,
   "id": "83677475",
   "metadata": {
    "execution": {
     "iopub.execute_input": "2025-05-28T10:50:23.709311Z",
     "iopub.status.busy": "2025-05-28T10:50:23.708953Z",
     "iopub.status.idle": "2025-05-28T10:50:24.531220Z",
     "shell.execute_reply": "2025-05-28T10:50:24.530236Z"
    },
    "papermill": {
     "duration": 0.832649,
     "end_time": "2025-05-28T10:50:24.535050",
     "exception": false,
     "start_time": "2025-05-28T10:50:23.702401",
     "status": "completed"
    },
    "tags": []
   },
   "outputs": [
    {
     "data": {
      "image/png": "[encoded data removed]",
      "text/plain": [
       "<Figure size 2000x600 with 1 Axes>"
      ]
     },
     "metadata": {},
     "output_type": "display_data"
    }
   ],
   "source": [
    "def chart_sales_overtime(df):\n",
    "    # Agrega receita total por mês\n",
    "    data = df.groupby(df['Date'].dt.to_period('M'))['total_revenue'].sum().reset_index()\n",
    "    data['Date'] = data['Date'].dt.to_timestamp()\n",
    "\n",
    "    # Conversão para spline\n",
    "    x = mdates.date2num(data['Date'])\n",
    "    y = data['total_revenue'].values\n",
    "\n",
    "    x_smooth = np.linspace(x.min(), x.max(), 300)\n",
    "    spline = make_interp_spline(x, y, k=3)\n",
    "    y_smooth = spline(x_smooth)\n",
    "    x_smooth_dates = mdates.num2date(x_smooth)\n",
    "\n",
    "    # Criar gráfico\n",
    "    fig, ax = plt.subplots(figsize=(20, 6))\n",
    "    ax.plot(x_smooth_dates, y_smooth, color='blue', linewidth=3, label='Smoothed Revenue')\n",
    "    ax.scatter(data['Date'], y, color='blue', s=60, zorder=5)\n",
    "\n",
    "    # Adiciona rótulos com valores de vendas acima dos pontos\n",
    "    for i, (date, value) in enumerate(zip(data['Date'], y)):\n",
    "        ax.text(date, value + (max(y) * 0.02), f'{value/1000:.1f}K', ha='center', fontsize=10, fontweight='bold')\n",
    "\n",
    "    # Título e rótulos\n",
    "    ax.set_title('Total Revenue Over Time', fontsize=20, fontweight='bold', fontname='Arial')\n",
    "    ax.set_xlabel('Period', fontsize=14, fontname='Arial')\n",
    "    ax.set_ylabel('Total Revenue (¥)', fontsize=14, fontname='Arial')\n",
    "\n",
    "    # Formatação eixo Y com milhar\n",
    "    ax.yaxis.set_major_formatter(mtick.FuncFormatter(lambda x, _: f'¥ {x/1000:.1f}K'))\n",
    "\n",
    "    # Formatação eixo X: mostra todos os meses, formato 25-May\n",
    "    ax.xaxis.set_major_locator(mdates.MonthLocator())\n",
    "    ax.xaxis.set_major_formatter(mdates.DateFormatter('%b-%y'))\n",
    "    plt.xticks(rotation=45)\n",
    "\n",
    "    # Estilo\n",
    "    ax.grid(True, axis='y', linestyle='--', color='lightgray')\n",
    "    ax.set_facecolor('white')\n",
    "    fig.patch.set_facecolor('white')\n",
    "    ax.spines['top'].set_visible(False)\n",
    "    ax.spines['right'].set_visible(False)\n",
    "\n",
    "    plt.tight_layout()\n",
    "    plt.show()\n",
    "\n",
    "chart_sales_overtime(df)\n"
   ]
  }
 ],
 "metadata": {
  "kaggle": {
   "accelerator": "none",
   "dataSources": [
    {
     "datasetId": 3720698,
     "sourceId": 6515671,
     "sourceType": "datasetVersion"
    }
   ],
   "dockerImageVersionId": 31040,
   "isGpuEnabled": false,
   "isInternetEnabled": true,
   "language": "python",
   "sourceType": "notebook"
  },
  "kernelspec": {
   "display_name": "Python 3",
   "language": "python",
   "name": "python3"
  },
  "language_info": {
   "codemirror_mode": {
    "name": "ipython",
    "version": 3
   },
   "file_extension": ".py",
   "mimetype": "text/x-python",
   "name": "python",
   "nbconvert_exporter": "python",
   "pygments_lexer": "ipython3",
   "version": "3.11.11"
  },
  "papermill": {
   "default_parameters": {},
   "duration": 14.169326,
   "end_time": "2025-05-28T10:50:25.264970",
   "environment_variables": {},
   "exception": null,
   "input_path": "__notebook__.ipynb",
   "output_path": "__notebook__.ipynb",
   "parameters": {},
   "start_time": "2025-05-28T10:50:11.095644",
   "version": "2.6.0"
  }
 },
 "nbformat": 4,
 "nbformat_minor": 5
}
