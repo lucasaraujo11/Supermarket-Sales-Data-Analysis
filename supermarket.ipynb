{
 "cells": [
  {
   "cell_type": "code",
   "execution_count": 1,
   "id": "1fbc5c1d",
   "metadata": {
    "execution": {
     "iopub.execute_input": "2025-05-27T20:34:25.141099Z",
     "iopub.status.busy": "2025-05-27T20:34:25.140206Z",
     "iopub.status.idle": "2025-05-27T20:34:27.906298Z",
     "shell.execute_reply": "2025-05-27T20:34:27.905406Z"
    },
    "papermill": {
     "duration": 2.77387,
     "end_time": "2025-05-27T20:34:27.908015",
     "exception": false,
     "start_time": "2025-05-27T20:34:25.134145",
     "status": "completed"
    },
    "tags": []
   },
   "outputs": [],
   "source": [
    "# libraries\n",
    "import pandas as pd\n",
    "import numpy as np\n",
    "import plotly.express as px\n",
    "import matplotlib.pyplot as plt\n",
    "import plotly.graph_objects as go"
   ]
  },
  {
   "cell_type": "code",
   "execution_count": 2,
   "id": "785deabc",
   "metadata": {
    "execution": {
     "iopub.execute_input": "2025-05-27T20:34:27.918448Z",
     "iopub.status.busy": "2025-05-27T20:34:27.917437Z",
     "iopub.status.idle": "2025-05-27T20:34:29.791801Z",
     "shell.execute_reply": "2025-05-27T20:34:29.791095Z"
    },
    "papermill": {
     "duration": 1.88118,
     "end_time": "2025-05-27T20:34:29.793651",
     "exception": false,
     "start_time": "2025-05-27T20:34:27.912471",
     "status": "completed"
    },
    "tags": []
   },
   "outputs": [],
   "source": [
    "# datasets\n",
    "items_data = pd.read_csv('/kaggle/input/supermarket-sales-data/annex1.csv')\n",
    "items_checkout = pd.read_csv('/kaggle/input/supermarket-sales-data/annex2.csv')\n",
    "items_wholesale_price = pd.read_csv('/kaggle/input/supermarket-sales-data/annex3.csv')\n",
    "items_loss_rate = pd.read_csv('/kaggle/input/supermarket-sales-data/annex4.csv')"
   ]
  },
  {
   "cell_type": "code",
   "execution_count": 3,
   "id": "b2081629",
   "metadata": {
    "execution": {
     "iopub.execute_input": "2025-05-27T20:34:29.805355Z",
     "iopub.status.busy": "2025-05-27T20:34:29.805045Z",
     "iopub.status.idle": "2025-05-27T20:34:29.814055Z",
     "shell.execute_reply": "2025-05-27T20:34:29.812980Z"
    },
    "papermill": {
     "duration": 0.015556,
     "end_time": "2025-05-27T20:34:29.815715",
     "exception": false,
     "start_time": "2025-05-27T20:34:29.800159",
     "status": "completed"
    },
    "tags": []
   },
   "outputs": [
    {
     "data": {
      "text/plain": [
       "Index(['Item Code', 'Item Name', 'Category Code', 'Category Name'], dtype='object')"
      ]
     },
     "execution_count": 3,
     "metadata": {},
     "output_type": "execute_result"
    }
   ],
   "source": [
    "# columns \n",
    "items_data.columns"
   ]
  },
  {
   "cell_type": "code",
   "execution_count": 4,
   "id": "cbf212f0",
   "metadata": {
    "execution": {
     "iopub.execute_input": "2025-05-27T20:34:29.825224Z",
     "iopub.status.busy": "2025-05-27T20:34:29.824913Z",
     "iopub.status.idle": "2025-05-27T20:34:29.830146Z",
     "shell.execute_reply": "2025-05-27T20:34:29.829455Z"
    },
    "papermill": {
     "duration": 0.011542,
     "end_time": "2025-05-27T20:34:29.831486",
     "exception": false,
     "start_time": "2025-05-27T20:34:29.819944",
     "status": "completed"
    },
    "tags": []
   },
   "outputs": [
    {
     "data": {
      "text/plain": [
       "Index(['Date', 'Time', 'Item Code', 'Quantity Sold (kilo)',\n",
       "       'Unit Selling Price (RMB/kg)', 'Sale or Return', 'Discount (Yes/No)'],\n",
       "      dtype='object')"
      ]
     },
     "execution_count": 4,
     "metadata": {},
     "output_type": "execute_result"
    }
   ],
   "source": [
    "# columns \n",
    "items_checkout.columns"
   ]
  },
  {
   "cell_type": "code",
   "execution_count": 5,
   "id": "3eac060e",
   "metadata": {
    "execution": {
     "iopub.execute_input": "2025-05-27T20:34:29.841534Z",
     "iopub.status.busy": "2025-05-27T20:34:29.840652Z",
     "iopub.status.idle": "2025-05-27T20:34:29.846131Z",
     "shell.execute_reply": "2025-05-27T20:34:29.845330Z"
    },
    "papermill": {
     "duration": 0.01174,
     "end_time": "2025-05-27T20:34:29.847474",
     "exception": false,
     "start_time": "2025-05-27T20:34:29.835734",
     "status": "completed"
    },
    "tags": []
   },
   "outputs": [
    {
     "data": {
      "text/plain": [
       "Index(['Date', 'Item Code', 'Wholesale Price (RMB/kg)'], dtype='object')"
      ]
     },
     "execution_count": 5,
     "metadata": {},
     "output_type": "execute_result"
    }
   ],
   "source": [
    "# columns\n",
    "items_wholesale_price.columns"
   ]
  },
  {
   "cell_type": "code",
   "execution_count": 6,
   "id": "51811f7c",
   "metadata": {
    "execution": {
     "iopub.execute_input": "2025-05-27T20:34:29.857592Z",
     "iopub.status.busy": "2025-05-27T20:34:29.857010Z",
     "iopub.status.idle": "2025-05-27T20:34:29.862501Z",
     "shell.execute_reply": "2025-05-27T20:34:29.861692Z"
    },
    "papermill": {
     "duration": 0.011974,
     "end_time": "2025-05-27T20:34:29.863947",
     "exception": false,
     "start_time": "2025-05-27T20:34:29.851973",
     "status": "completed"
    },
    "tags": []
   },
   "outputs": [
    {
     "data": {
      "text/plain": [
       "Index(['Item Code', 'Item Name', 'Loss Rate (%)'], dtype='object')"
      ]
     },
     "execution_count": 6,
     "metadata": {},
     "output_type": "execute_result"
    }
   ],
   "source": [
    "# columns\n",
    "items_loss_rate.columns"
   ]
  },
  {
   "cell_type": "code",
   "execution_count": 7,
   "id": "0b509cbb",
   "metadata": {
    "execution": {
     "iopub.execute_input": "2025-05-27T20:34:29.874165Z",
     "iopub.status.busy": "2025-05-27T20:34:29.873547Z",
     "iopub.status.idle": "2025-05-27T20:34:29.895018Z",
     "shell.execute_reply": "2025-05-27T20:34:29.894185Z"
    },
    "papermill": {
     "duration": 0.028234,
     "end_time": "2025-05-27T20:34:29.896554",
     "exception": false,
     "start_time": "2025-05-27T20:34:29.868320",
     "status": "completed"
    },
    "tags": []
   },
   "outputs": [
    {
     "data": {
      "text/html": [
       "<div>\n",
       "<style scoped>\n",
       "    .dataframe tbody tr th:only-of-type {\n",
       "        vertical-align: middle;\n",
       "    }\n",
       "\n",
       "    .dataframe tbody tr th {\n",
       "        vertical-align: top;\n",
       "    }\n",
       "\n",
       "    .dataframe thead th {\n",
       "        text-align: right;\n",
       "    }\n",
       "</style>\n",
       "<table border=\"1\" class=\"dataframe\">\n",
       "  <thead>\n",
       "    <tr style=\"text-align: right;\">\n",
       "      <th></th>\n",
       "      <th>Item Code</th>\n",
       "      <th>Item Name</th>\n",
       "      <th>Category Code</th>\n",
       "      <th>Category Name</th>\n",
       "    </tr>\n",
       "  </thead>\n",
       "  <tbody>\n",
       "    <tr>\n",
       "      <th>0</th>\n",
       "      <td>102900005115168</td>\n",
       "      <td>Niushou Shengcai</td>\n",
       "      <td>1011010101</td>\n",
       "      <td>Flower/Leaf Vegetables</td>\n",
       "    </tr>\n",
       "    <tr>\n",
       "      <th>1</th>\n",
       "      <td>102900005115199</td>\n",
       "      <td>Sichuan Red Cedar</td>\n",
       "      <td>1011010101</td>\n",
       "      <td>Flower/Leaf Vegetables</td>\n",
       "    </tr>\n",
       "    <tr>\n",
       "      <th>2</th>\n",
       "      <td>102900005115625</td>\n",
       "      <td>Local Xiaomao Cabbage</td>\n",
       "      <td>1011010101</td>\n",
       "      <td>Flower/Leaf Vegetables</td>\n",
       "    </tr>\n",
       "  </tbody>\n",
       "</table>\n",
       "</div>"
      ],
      "text/plain": [
       "         Item Code              Item Name  Category Code  \\\n",
       "0  102900005115168       Niushou Shengcai     1011010101   \n",
       "1  102900005115199      Sichuan Red Cedar     1011010101   \n",
       "2  102900005115625  Local Xiaomao Cabbage     1011010101   \n",
       "\n",
       "            Category Name  \n",
       "0  Flower/Leaf Vegetables  \n",
       "1  Flower/Leaf Vegetables  \n",
       "2  Flower/Leaf Vegetables  "
      ]
     },
     "execution_count": 7,
     "metadata": {},
     "output_type": "execute_result"
    }
   ],
   "source": [
    "# head \n",
    "items_data.head(3)"
   ]
  },
  {
   "cell_type": "code",
   "execution_count": 8,
   "id": "10d5fae6",
   "metadata": {
    "execution": {
     "iopub.execute_input": "2025-05-27T20:34:29.907185Z",
     "iopub.status.busy": "2025-05-27T20:34:29.906374Z",
     "iopub.status.idle": "2025-05-27T20:34:29.917078Z",
     "shell.execute_reply": "2025-05-27T20:34:29.916279Z"
    },
    "papermill": {
     "duration": 0.0173,
     "end_time": "2025-05-27T20:34:29.918440",
     "exception": false,
     "start_time": "2025-05-27T20:34:29.901140",
     "status": "completed"
    },
    "tags": []
   },
   "outputs": [
    {
     "data": {
      "text/html": [
       "<div>\n",
       "<style scoped>\n",
       "    .dataframe tbody tr th:only-of-type {\n",
       "        vertical-align: middle;\n",
       "    }\n",
       "\n",
       "    .dataframe tbody tr th {\n",
       "        vertical-align: top;\n",
       "    }\n",
       "\n",
       "    .dataframe thead th {\n",
       "        text-align: right;\n",
       "    }\n",
       "</style>\n",
       "<table border=\"1\" class=\"dataframe\">\n",
       "  <thead>\n",
       "    <tr style=\"text-align: right;\">\n",
       "      <th></th>\n",
       "      <th>Date</th>\n",
       "      <th>Time</th>\n",
       "      <th>Item Code</th>\n",
       "      <th>Quantity Sold (kilo)</th>\n",
       "      <th>Unit Selling Price (RMB/kg)</th>\n",
       "      <th>Sale or Return</th>\n",
       "      <th>Discount (Yes/No)</th>\n",
       "    </tr>\n",
       "  </thead>\n",
       "  <tbody>\n",
       "    <tr>\n",
       "      <th>0</th>\n",
       "      <td>2020-07-01</td>\n",
       "      <td>09:15:07.924</td>\n",
       "      <td>102900005117056</td>\n",
       "      <td>0.396</td>\n",
       "      <td>7.6</td>\n",
       "      <td>sale</td>\n",
       "      <td>No</td>\n",
       "    </tr>\n",
       "    <tr>\n",
       "      <th>1</th>\n",
       "      <td>2020-07-01</td>\n",
       "      <td>09:17:27.295</td>\n",
       "      <td>102900005115960</td>\n",
       "      <td>0.849</td>\n",
       "      <td>3.2</td>\n",
       "      <td>sale</td>\n",
       "      <td>No</td>\n",
       "    </tr>\n",
       "    <tr>\n",
       "      <th>2</th>\n",
       "      <td>2020-07-01</td>\n",
       "      <td>09:17:33.905</td>\n",
       "      <td>102900005117056</td>\n",
       "      <td>0.409</td>\n",
       "      <td>7.6</td>\n",
       "      <td>sale</td>\n",
       "      <td>No</td>\n",
       "    </tr>\n",
       "  </tbody>\n",
       "</table>\n",
       "</div>"
      ],
      "text/plain": [
       "         Date          Time        Item Code  Quantity Sold (kilo)  \\\n",
       "0  2020-07-01  09:15:07.924  102900005117056                 0.396   \n",
       "1  2020-07-01  09:17:27.295  102900005115960                 0.849   \n",
       "2  2020-07-01  09:17:33.905  102900005117056                 0.409   \n",
       "\n",
       "   Unit Selling Price (RMB/kg) Sale or Return Discount (Yes/No)  \n",
       "0                          7.6           sale                No  \n",
       "1                          3.2           sale                No  \n",
       "2                          7.6           sale                No  "
      ]
     },
     "execution_count": 8,
     "metadata": {},
     "output_type": "execute_result"
    }
   ],
   "source": [
    "# head \n",
    "items_checkout.head(3)"
   ]
  },
  {
   "cell_type": "code",
   "execution_count": 9,
   "id": "2c1e49d6",
   "metadata": {
    "execution": {
     "iopub.execute_input": "2025-05-27T20:34:29.929357Z",
     "iopub.status.busy": "2025-05-27T20:34:29.928638Z",
     "iopub.status.idle": "2025-05-27T20:34:29.936994Z",
     "shell.execute_reply": "2025-05-27T20:34:29.936277Z"
    },
    "papermill": {
     "duration": 0.014953,
     "end_time": "2025-05-27T20:34:29.938236",
     "exception": false,
     "start_time": "2025-05-27T20:34:29.923283",
     "status": "completed"
    },
    "tags": []
   },
   "outputs": [
    {
     "data": {
      "text/html": [
       "<div>\n",
       "<style scoped>\n",
       "    .dataframe tbody tr th:only-of-type {\n",
       "        vertical-align: middle;\n",
       "    }\n",
       "\n",
       "    .dataframe tbody tr th {\n",
       "        vertical-align: top;\n",
       "    }\n",
       "\n",
       "    .dataframe thead th {\n",
       "        text-align: right;\n",
       "    }\n",
       "</style>\n",
       "<table border=\"1\" class=\"dataframe\">\n",
       "  <thead>\n",
       "    <tr style=\"text-align: right;\">\n",
       "      <th></th>\n",
       "      <th>Date</th>\n",
       "      <th>Item Code</th>\n",
       "      <th>Wholesale Price (RMB/kg)</th>\n",
       "    </tr>\n",
       "  </thead>\n",
       "  <tbody>\n",
       "    <tr>\n",
       "      <th>0</th>\n",
       "      <td>2020-07-01</td>\n",
       "      <td>102900005115762</td>\n",
       "      <td>3.88</td>\n",
       "    </tr>\n",
       "    <tr>\n",
       "      <th>1</th>\n",
       "      <td>2020-07-01</td>\n",
       "      <td>102900005115779</td>\n",
       "      <td>6.72</td>\n",
       "    </tr>\n",
       "    <tr>\n",
       "      <th>2</th>\n",
       "      <td>2020-07-01</td>\n",
       "      <td>102900005115786</td>\n",
       "      <td>3.19</td>\n",
       "    </tr>\n",
       "  </tbody>\n",
       "</table>\n",
       "</div>"
      ],
      "text/plain": [
       "         Date        Item Code  Wholesale Price (RMB/kg)\n",
       "0  2020-07-01  102900005115762                      3.88\n",
       "1  2020-07-01  102900005115779                      6.72\n",
       "2  2020-07-01  102900005115786                      3.19"
      ]
     },
     "execution_count": 9,
     "metadata": {},
     "output_type": "execute_result"
    }
   ],
   "source": [
    "# head \n",
    "items_wholesale_price.head(3)"
   ]
  },
  {
   "cell_type": "code",
   "execution_count": 10,
   "id": "262aadd6",
   "metadata": {
    "execution": {
     "iopub.execute_input": "2025-05-27T20:34:29.949324Z",
     "iopub.status.busy": "2025-05-27T20:34:29.948684Z",
     "iopub.status.idle": "2025-05-27T20:34:29.956874Z",
     "shell.execute_reply": "2025-05-27T20:34:29.956120Z"
    },
    "papermill": {
     "duration": 0.015118,
     "end_time": "2025-05-27T20:34:29.958176",
     "exception": false,
     "start_time": "2025-05-27T20:34:29.943058",
     "status": "completed"
    },
    "tags": []
   },
   "outputs": [
    {
     "data": {
      "text/html": [
       "<div>\n",
       "<style scoped>\n",
       "    .dataframe tbody tr th:only-of-type {\n",
       "        vertical-align: middle;\n",
       "    }\n",
       "\n",
       "    .dataframe tbody tr th {\n",
       "        vertical-align: top;\n",
       "    }\n",
       "\n",
       "    .dataframe thead th {\n",
       "        text-align: right;\n",
       "    }\n",
       "</style>\n",
       "<table border=\"1\" class=\"dataframe\">\n",
       "  <thead>\n",
       "    <tr style=\"text-align: right;\">\n",
       "      <th></th>\n",
       "      <th>Item Code</th>\n",
       "      <th>Item Name</th>\n",
       "      <th>Loss Rate (%)</th>\n",
       "    </tr>\n",
       "  </thead>\n",
       "  <tbody>\n",
       "    <tr>\n",
       "      <th>0</th>\n",
       "      <td>102900005115168</td>\n",
       "      <td>Niushou Shengcai</td>\n",
       "      <td>4.39</td>\n",
       "    </tr>\n",
       "    <tr>\n",
       "      <th>1</th>\n",
       "      <td>102900005115199</td>\n",
       "      <td>Sichuan Red Cedar</td>\n",
       "      <td>10.46</td>\n",
       "    </tr>\n",
       "    <tr>\n",
       "      <th>2</th>\n",
       "      <td>102900005115250</td>\n",
       "      <td>Xixia Black Mushroom (1)</td>\n",
       "      <td>10.80</td>\n",
       "    </tr>\n",
       "  </tbody>\n",
       "</table>\n",
       "</div>"
      ],
      "text/plain": [
       "         Item Code                 Item Name  Loss Rate (%)\n",
       "0  102900005115168          Niushou Shengcai           4.39\n",
       "1  102900005115199         Sichuan Red Cedar          10.46\n",
       "2  102900005115250  Xixia Black Mushroom (1)          10.80"
      ]
     },
     "execution_count": 10,
     "metadata": {},
     "output_type": "execute_result"
    }
   ],
   "source": [
    "# head \n",
    "items_loss_rate.head(3)"
   ]
  },
  {
   "cell_type": "code",
   "execution_count": 11,
   "id": "13fd8577",
   "metadata": {
    "execution": {
     "iopub.execute_input": "2025-05-27T20:34:29.969588Z",
     "iopub.status.busy": "2025-05-27T20:34:29.968913Z",
     "iopub.status.idle": "2025-05-27T20:34:29.975107Z",
     "shell.execute_reply": "2025-05-27T20:34:29.974142Z"
    },
    "papermill": {
     "duration": 0.013437,
     "end_time": "2025-05-27T20:34:29.976565",
     "exception": false,
     "start_time": "2025-05-27T20:34:29.963128",
     "status": "completed"
    },
    "tags": []
   },
   "outputs": [
    {
     "name": "stdout",
     "output_type": "stream",
     "text": [
      "Total rows 251 and colums 4 of items_data\n",
      "Total rows 878503 and colums 7 of items_checkout\n",
      "Total rows 55982 and colums 3 of items_wholesale_price\n",
      "Total rows 251 and colums 3 of items_loss_rate\n"
     ]
    }
   ],
   "source": [
    "# shapes of:\n",
    "print('Total rows {} and colums {} of items_data'.format(items_data.shape[0], items_data.shape[1]))\n",
    "print('Total rows {} and colums {} of items_checkout'.format(items_checkout.shape[0], items_checkout.shape[1]))\n",
    "print('Total rows {} and colums {} of items_wholesale_price'.format(items_wholesale_price.shape[0], items_wholesale_price.shape[1]))\n",
    "print('Total rows {} and colums {} of items_loss_rate'.format(items_loss_rate.shape[0], items_loss_rate.shape[1]))"
   ]
  },
  {
   "cell_type": "code",
   "execution_count": 12,
   "id": "cf6b2a05",
   "metadata": {
    "execution": {
     "iopub.execute_input": "2025-05-27T20:34:29.987526Z",
     "iopub.status.busy": "2025-05-27T20:34:29.987201Z",
     "iopub.status.idle": "2025-05-27T20:34:30.010375Z",
     "shell.execute_reply": "2025-05-27T20:34:30.009441Z"
    },
    "papermill": {
     "duration": 0.030278,
     "end_time": "2025-05-27T20:34:30.011831",
     "exception": false,
     "start_time": "2025-05-27T20:34:29.981553",
     "status": "completed"
    },
    "tags": []
   },
   "outputs": [
    {
     "name": "stdout",
     "output_type": "stream",
     "text": [
      "<class 'pandas.core.frame.DataFrame'>\n",
      "RangeIndex: 251 entries, 0 to 250\n",
      "Data columns (total 4 columns):\n",
      " #   Column         Non-Null Count  Dtype \n",
      "---  ------         --------------  ----- \n",
      " 0   Item Code      251 non-null    int64 \n",
      " 1   Item Name      251 non-null    object\n",
      " 2   Category Code  251 non-null    int64 \n",
      " 3   Category Name  251 non-null    object\n",
      "dtypes: int64(2), object(2)\n",
      "memory usage: 8.0+ KB\n"
     ]
    }
   ],
   "source": [
    "# information of\n",
    "items_data.info()"
   ]
  },
  {
   "cell_type": "code",
   "execution_count": 13,
   "id": "a3ece781",
   "metadata": {
    "execution": {
     "iopub.execute_input": "2025-05-27T20:34:30.023021Z",
     "iopub.status.busy": "2025-05-27T20:34:30.022750Z",
     "iopub.status.idle": "2025-05-27T20:34:30.215753Z",
     "shell.execute_reply": "2025-05-27T20:34:30.214521Z"
    },
    "papermill": {
     "duration": 0.20032,
     "end_time": "2025-05-27T20:34:30.217258",
     "exception": false,
     "start_time": "2025-05-27T20:34:30.016938",
     "status": "completed"
    },
    "tags": []
   },
   "outputs": [
    {
     "name": "stdout",
     "output_type": "stream",
     "text": [
      "<class 'pandas.core.frame.DataFrame'>\n",
      "RangeIndex: 878503 entries, 0 to 878502\n",
      "Data columns (total 7 columns):\n",
      " #   Column                       Non-Null Count   Dtype  \n",
      "---  ------                       --------------   -----  \n",
      " 0   Date                         878503 non-null  object \n",
      " 1   Time                         878503 non-null  object \n",
      " 2   Item Code                    878503 non-null  int64  \n",
      " 3   Quantity Sold (kilo)         878503 non-null  float64\n",
      " 4   Unit Selling Price (RMB/kg)  878503 non-null  float64\n",
      " 5   Sale or Return               878503 non-null  object \n",
      " 6   Discount (Yes/No)            878503 non-null  object \n",
      "dtypes: float64(2), int64(1), object(4)\n",
      "memory usage: 46.9+ MB\n"
     ]
    }
   ],
   "source": [
    "# information of\n",
    "items_checkout.info()"
   ]
  },
  {
   "cell_type": "code",
   "execution_count": 14,
   "id": "09732f5d",
   "metadata": {
    "execution": {
     "iopub.execute_input": "2025-05-27T20:34:30.230843Z",
     "iopub.status.busy": "2025-05-27T20:34:30.229924Z",
     "iopub.status.idle": "2025-05-27T20:34:30.242720Z",
     "shell.execute_reply": "2025-05-27T20:34:30.241607Z"
    },
    "papermill": {
     "duration": 0.021386,
     "end_time": "2025-05-27T20:34:30.244126",
     "exception": false,
     "start_time": "2025-05-27T20:34:30.222740",
     "status": "completed"
    },
    "tags": []
   },
   "outputs": [
    {
     "name": "stdout",
     "output_type": "stream",
     "text": [
      "<class 'pandas.core.frame.DataFrame'>\n",
      "RangeIndex: 55982 entries, 0 to 55981\n",
      "Data columns (total 3 columns):\n",
      " #   Column                    Non-Null Count  Dtype  \n",
      "---  ------                    --------------  -----  \n",
      " 0   Date                      55982 non-null  object \n",
      " 1   Item Code                 55982 non-null  int64  \n",
      " 2   Wholesale Price (RMB/kg)  55982 non-null  float64\n",
      "dtypes: float64(1), int64(1), object(1)\n",
      "memory usage: 1.3+ MB\n"
     ]
    }
   ],
   "source": [
    "# information of \n",
    "items_wholesale_price.info()"
   ]
  },
  {
   "cell_type": "code",
   "execution_count": 15,
   "id": "15fbc65f",
   "metadata": {
    "execution": {
     "iopub.execute_input": "2025-05-27T20:34:30.256003Z",
     "iopub.status.busy": "2025-05-27T20:34:30.255241Z",
     "iopub.status.idle": "2025-05-27T20:34:30.264149Z",
     "shell.execute_reply": "2025-05-27T20:34:30.263236Z"
    },
    "papermill": {
     "duration": 0.016174,
     "end_time": "2025-05-27T20:34:30.265534",
     "exception": false,
     "start_time": "2025-05-27T20:34:30.249360",
     "status": "completed"
    },
    "tags": []
   },
   "outputs": [
    {
     "name": "stdout",
     "output_type": "stream",
     "text": [
      "<class 'pandas.core.frame.DataFrame'>\n",
      "RangeIndex: 251 entries, 0 to 250\n",
      "Data columns (total 3 columns):\n",
      " #   Column         Non-Null Count  Dtype  \n",
      "---  ------         --------------  -----  \n",
      " 0   Item Code      251 non-null    int64  \n",
      " 1   Item Name      251 non-null    object \n",
      " 2   Loss Rate (%)  251 non-null    float64\n",
      "dtypes: float64(1), int64(1), object(1)\n",
      "memory usage: 6.0+ KB\n"
     ]
    }
   ],
   "source": [
    "# information of\n",
    "items_loss_rate.info()"
   ]
  },
  {
   "cell_type": "markdown",
   "id": "e6952ed1",
   "metadata": {
    "papermill": {
     "duration": 0.005013,
     "end_time": "2025-05-27T20:34:30.275894",
     "exception": false,
     "start_time": "2025-05-27T20:34:30.270881",
     "status": "completed"
    },
    "tags": []
   },
   "source": [
    "## 🔄 Data Preprocessing"
   ]
  },
  {
   "cell_type": "code",
   "execution_count": 16,
   "id": "01149f13",
   "metadata": {
    "execution": {
     "iopub.execute_input": "2025-05-27T20:34:30.287229Z",
     "iopub.status.busy": "2025-05-27T20:34:30.286957Z",
     "iopub.status.idle": "2025-05-27T20:34:30.439263Z",
     "shell.execute_reply": "2025-05-27T20:34:30.438363Z"
    },
    "papermill": {
     "duration": 0.159777,
     "end_time": "2025-05-27T20:34:30.440735",
     "exception": false,
     "start_time": "2025-05-27T20:34:30.280958",
     "status": "completed"
    },
    "tags": []
   },
   "outputs": [
    {
     "data": {
      "text/html": [
       "<div>\n",
       "<style scoped>\n",
       "    .dataframe tbody tr th:only-of-type {\n",
       "        vertical-align: middle;\n",
       "    }\n",
       "\n",
       "    .dataframe tbody tr th {\n",
       "        vertical-align: top;\n",
       "    }\n",
       "\n",
       "    .dataframe thead th {\n",
       "        text-align: right;\n",
       "    }\n",
       "</style>\n",
       "<table border=\"1\" class=\"dataframe\">\n",
       "  <thead>\n",
       "    <tr style=\"text-align: right;\">\n",
       "      <th></th>\n",
       "      <th>Date</th>\n",
       "      <th>Time</th>\n",
       "      <th>Item Code</th>\n",
       "      <th>Quantity Sold (kilo)</th>\n",
       "      <th>Unit Selling Price (RMB/kg)</th>\n",
       "      <th>Sale or Return</th>\n",
       "      <th>Discount (Yes/No)</th>\n",
       "      <th>Item Name</th>\n",
       "      <th>Category Code</th>\n",
       "      <th>Category Name</th>\n",
       "    </tr>\n",
       "  </thead>\n",
       "  <tbody>\n",
       "    <tr>\n",
       "      <th>0</th>\n",
       "      <td>2020-07-01</td>\n",
       "      <td>09:15:07.924</td>\n",
       "      <td>102900005117056</td>\n",
       "      <td>0.396</td>\n",
       "      <td>7.6</td>\n",
       "      <td>sale</td>\n",
       "      <td>No</td>\n",
       "      <td>Paopaojiao (Jingpin)</td>\n",
       "      <td>1011010504</td>\n",
       "      <td>Capsicum</td>\n",
       "    </tr>\n",
       "    <tr>\n",
       "      <th>1</th>\n",
       "      <td>2020-07-01</td>\n",
       "      <td>09:17:27.295</td>\n",
       "      <td>102900005115960</td>\n",
       "      <td>0.849</td>\n",
       "      <td>3.2</td>\n",
       "      <td>sale</td>\n",
       "      <td>No</td>\n",
       "      <td>Chinese Cabbage</td>\n",
       "      <td>1011010101</td>\n",
       "      <td>Flower/Leaf Vegetables</td>\n",
       "    </tr>\n",
       "    <tr>\n",
       "      <th>2</th>\n",
       "      <td>2020-07-01</td>\n",
       "      <td>09:17:33.905</td>\n",
       "      <td>102900005117056</td>\n",
       "      <td>0.409</td>\n",
       "      <td>7.6</td>\n",
       "      <td>sale</td>\n",
       "      <td>No</td>\n",
       "      <td>Paopaojiao (Jingpin)</td>\n",
       "      <td>1011010504</td>\n",
       "      <td>Capsicum</td>\n",
       "    </tr>\n",
       "    <tr>\n",
       "      <th>3</th>\n",
       "      <td>2020-07-01</td>\n",
       "      <td>09:19:45.450</td>\n",
       "      <td>102900005115823</td>\n",
       "      <td>0.421</td>\n",
       "      <td>10.0</td>\n",
       "      <td>sale</td>\n",
       "      <td>No</td>\n",
       "      <td>Shanghaiqing</td>\n",
       "      <td>1011010101</td>\n",
       "      <td>Flower/Leaf Vegetables</td>\n",
       "    </tr>\n",
       "    <tr>\n",
       "      <th>4</th>\n",
       "      <td>2020-07-01</td>\n",
       "      <td>09:20:23.686</td>\n",
       "      <td>102900005115908</td>\n",
       "      <td>0.539</td>\n",
       "      <td>8.0</td>\n",
       "      <td>sale</td>\n",
       "      <td>No</td>\n",
       "      <td>Caixin</td>\n",
       "      <td>1011010101</td>\n",
       "      <td>Flower/Leaf Vegetables</td>\n",
       "    </tr>\n",
       "  </tbody>\n",
       "</table>\n",
       "</div>"
      ],
      "text/plain": [
       "         Date          Time        Item Code  Quantity Sold (kilo)  \\\n",
       "0  2020-07-01  09:15:07.924  102900005117056                 0.396   \n",
       "1  2020-07-01  09:17:27.295  102900005115960                 0.849   \n",
       "2  2020-07-01  09:17:33.905  102900005117056                 0.409   \n",
       "3  2020-07-01  09:19:45.450  102900005115823                 0.421   \n",
       "4  2020-07-01  09:20:23.686  102900005115908                 0.539   \n",
       "\n",
       "   Unit Selling Price (RMB/kg) Sale or Return Discount (Yes/No)  \\\n",
       "0                          7.6           sale                No   \n",
       "1                          3.2           sale                No   \n",
       "2                          7.6           sale                No   \n",
       "3                         10.0           sale                No   \n",
       "4                          8.0           sale                No   \n",
       "\n",
       "              Item Name  Category Code           Category Name  \n",
       "0  Paopaojiao (Jingpin)     1011010504                Capsicum  \n",
       "1       Chinese Cabbage     1011010101  Flower/Leaf Vegetables  \n",
       "2  Paopaojiao (Jingpin)     1011010504                Capsicum  \n",
       "3          Shanghaiqing     1011010101  Flower/Leaf Vegetables  \n",
       "4                Caixin     1011010101  Flower/Leaf Vegetables  "
      ]
     },
     "execution_count": 16,
     "metadata": {},
     "output_type": "execute_result"
    }
   ],
   "source": [
    "# merge items_checkout with items_data and create df \n",
    "df = pd.merge(items_checkout, items_data)\n",
    "df.head()"
   ]
  },
  {
   "cell_type": "code",
   "execution_count": 17,
   "id": "6c406808",
   "metadata": {
    "execution": {
     "iopub.execute_input": "2025-05-27T20:34:30.454067Z",
     "iopub.status.busy": "2025-05-27T20:34:30.453291Z",
     "iopub.status.idle": "2025-05-27T20:34:30.544873Z",
     "shell.execute_reply": "2025-05-27T20:34:30.544076Z"
    },
    "papermill": {
     "duration": 0.099489,
     "end_time": "2025-05-27T20:34:30.546271",
     "exception": false,
     "start_time": "2025-05-27T20:34:30.446782",
     "status": "completed"
    },
    "tags": []
   },
   "outputs": [
    {
     "data": {
      "text/plain": [
       "0        2020-07-01\n",
       "1        2020-07-01\n",
       "2        2020-07-01\n",
       "3        2020-07-01\n",
       "4        2020-07-01\n",
       "            ...    \n",
       "878498   2023-06-30\n",
       "878499   2023-06-30\n",
       "878500   2023-06-30\n",
       "878501   2023-06-30\n",
       "878502   2023-06-30\n",
       "Name: Date, Length: 878503, dtype: datetime64[ns]"
      ]
     },
     "execution_count": 17,
     "metadata": {},
     "output_type": "execute_result"
    }
   ],
   "source": [
    "# Convert date format\n",
    "df['Date'] = pd.to_datetime(df['Date'])\n",
    "df['Date']"
   ]
  },
  {
   "cell_type": "code",
   "execution_count": 18,
   "id": "e69c4dbb",
   "metadata": {
    "execution": {
     "iopub.execute_input": "2025-05-27T20:34:30.558702Z",
     "iopub.status.busy": "2025-05-27T20:34:30.558137Z",
     "iopub.status.idle": "2025-05-27T20:34:30.579733Z",
     "shell.execute_reply": "2025-05-27T20:34:30.578958Z"
    },
    "papermill": {
     "duration": 0.029171,
     "end_time": "2025-05-27T20:34:30.581032",
     "exception": false,
     "start_time": "2025-05-27T20:34:30.551861",
     "status": "completed"
    },
    "tags": []
   },
   "outputs": [
    {
     "data": {
      "text/html": [
       "<div>\n",
       "<style scoped>\n",
       "    .dataframe tbody tr th:only-of-type {\n",
       "        vertical-align: middle;\n",
       "    }\n",
       "\n",
       "    .dataframe tbody tr th {\n",
       "        vertical-align: top;\n",
       "    }\n",
       "\n",
       "    .dataframe thead th {\n",
       "        text-align: right;\n",
       "    }\n",
       "</style>\n",
       "<table border=\"1\" class=\"dataframe\">\n",
       "  <thead>\n",
       "    <tr style=\"text-align: right;\">\n",
       "      <th></th>\n",
       "      <th>Date</th>\n",
       "      <th>Time</th>\n",
       "      <th>Item Code</th>\n",
       "      <th>Quantity Sold (kilo)</th>\n",
       "      <th>Unit Selling Price (RMB/kg)</th>\n",
       "      <th>Sale or Return</th>\n",
       "      <th>Discount (Yes/No)</th>\n",
       "      <th>Item Name</th>\n",
       "      <th>Category Code</th>\n",
       "      <th>Category Name</th>\n",
       "      <th>total_revenue</th>\n",
       "    </tr>\n",
       "  </thead>\n",
       "  <tbody>\n",
       "    <tr>\n",
       "      <th>0</th>\n",
       "      <td>2020-07-01</td>\n",
       "      <td>09:15:07.924</td>\n",
       "      <td>102900005117056</td>\n",
       "      <td>0.396</td>\n",
       "      <td>7.6</td>\n",
       "      <td>sale</td>\n",
       "      <td>No</td>\n",
       "      <td>Paopaojiao (Jingpin)</td>\n",
       "      <td>1011010504</td>\n",
       "      <td>Capsicum</td>\n",
       "      <td>3.0096</td>\n",
       "    </tr>\n",
       "    <tr>\n",
       "      <th>1</th>\n",
       "      <td>2020-07-01</td>\n",
       "      <td>09:17:27.295</td>\n",
       "      <td>102900005115960</td>\n",
       "      <td>0.849</td>\n",
       "      <td>3.2</td>\n",
       "      <td>sale</td>\n",
       "      <td>No</td>\n",
       "      <td>Chinese Cabbage</td>\n",
       "      <td>1011010101</td>\n",
       "      <td>Flower/Leaf Vegetables</td>\n",
       "      <td>2.7168</td>\n",
       "    </tr>\n",
       "    <tr>\n",
       "      <th>2</th>\n",
       "      <td>2020-07-01</td>\n",
       "      <td>09:17:33.905</td>\n",
       "      <td>102900005117056</td>\n",
       "      <td>0.409</td>\n",
       "      <td>7.6</td>\n",
       "      <td>sale</td>\n",
       "      <td>No</td>\n",
       "      <td>Paopaojiao (Jingpin)</td>\n",
       "      <td>1011010504</td>\n",
       "      <td>Capsicum</td>\n",
       "      <td>3.1084</td>\n",
       "    </tr>\n",
       "    <tr>\n",
       "      <th>3</th>\n",
       "      <td>2020-07-01</td>\n",
       "      <td>09:19:45.450</td>\n",
       "      <td>102900005115823</td>\n",
       "      <td>0.421</td>\n",
       "      <td>10.0</td>\n",
       "      <td>sale</td>\n",
       "      <td>No</td>\n",
       "      <td>Shanghaiqing</td>\n",
       "      <td>1011010101</td>\n",
       "      <td>Flower/Leaf Vegetables</td>\n",
       "      <td>4.2100</td>\n",
       "    </tr>\n",
       "    <tr>\n",
       "      <th>4</th>\n",
       "      <td>2020-07-01</td>\n",
       "      <td>09:20:23.686</td>\n",
       "      <td>102900005115908</td>\n",
       "      <td>0.539</td>\n",
       "      <td>8.0</td>\n",
       "      <td>sale</td>\n",
       "      <td>No</td>\n",
       "      <td>Caixin</td>\n",
       "      <td>1011010101</td>\n",
       "      <td>Flower/Leaf Vegetables</td>\n",
       "      <td>4.3120</td>\n",
       "    </tr>\n",
       "  </tbody>\n",
       "</table>\n",
       "</div>"
      ],
      "text/plain": [
       "        Date          Time        Item Code  Quantity Sold (kilo)  \\\n",
       "0 2020-07-01  09:15:07.924  102900005117056                 0.396   \n",
       "1 2020-07-01  09:17:27.295  102900005115960                 0.849   \n",
       "2 2020-07-01  09:17:33.905  102900005117056                 0.409   \n",
       "3 2020-07-01  09:19:45.450  102900005115823                 0.421   \n",
       "4 2020-07-01  09:20:23.686  102900005115908                 0.539   \n",
       "\n",
       "   Unit Selling Price (RMB/kg) Sale or Return Discount (Yes/No)  \\\n",
       "0                          7.6           sale                No   \n",
       "1                          3.2           sale                No   \n",
       "2                          7.6           sale                No   \n",
       "3                         10.0           sale                No   \n",
       "4                          8.0           sale                No   \n",
       "\n",
       "              Item Name  Category Code           Category Name  total_revenue  \n",
       "0  Paopaojiao (Jingpin)     1011010504                Capsicum         3.0096  \n",
       "1       Chinese Cabbage     1011010101  Flower/Leaf Vegetables         2.7168  \n",
       "2  Paopaojiao (Jingpin)     1011010504                Capsicum         3.1084  \n",
       "3          Shanghaiqing     1011010101  Flower/Leaf Vegetables         4.2100  \n",
       "4                Caixin     1011010101  Flower/Leaf Vegetables         4.3120  "
      ]
     },
     "execution_count": 18,
     "metadata": {},
     "output_type": "execute_result"
    }
   ],
   "source": [
    "# create a colum total revenue\n",
    "df[\"total_revenue\"] = df[\"Quantity Sold (kilo)\"] * df[\"Unit Selling Price (RMB/kg)\"]\n",
    "df.head()"
   ]
  },
  {
   "cell_type": "markdown",
   "id": "5499b664",
   "metadata": {
    "papermill": {
     "duration": 0.005422,
     "end_time": "2025-05-27T20:34:30.592246",
     "exception": false,
     "start_time": "2025-05-27T20:34:30.586824",
     "status": "completed"
    },
    "tags": []
   },
   "source": [
    "## 📊 Exploratory Data Analysis (EDA)"
   ]
  },
  {
   "cell_type": "code",
   "execution_count": 19,
   "id": "c6d6e7b2",
   "metadata": {
    "execution": {
     "iopub.execute_input": "2025-05-27T20:34:30.604449Z",
     "iopub.status.busy": "2025-05-27T20:34:30.604105Z",
     "iopub.status.idle": "2025-05-27T20:34:32.456441Z",
     "shell.execute_reply": "2025-05-27T20:34:32.455588Z"
    },
    "papermill": {
     "duration": 1.860105,
     "end_time": "2025-05-27T20:34:32.457805",
     "exception": false,
     "start_time": "2025-05-27T20:34:30.597700",
     "status": "completed"
    },
    "tags": []
   },
   "outputs": [
    {
     "data": {
      "text/html": [
       "<html>\n",
       "<head><meta charset=\"utf-8\" /></head>\n",
       "<body>\n",
       "    <div>            <script src=\"https://cdnjs.cloudflare.com/ajax/libs/mathjax/2.7.5/MathJax.js?config=TeX-AMS-MML_SVG\"></script><script type=\"text/javascript\">if (window.MathJax && window.MathJax.Hub && window.MathJax.Hub.Config) {window.MathJax.Hub.Config({SVG: {font: \"STIX-Web\"}});}</script>                <script type=\"text/javascript\">window.PlotlyConfig = {MathJaxConfig: 'local'};</script>\n",
       "        <script charset=\"utf-8\" src=\"https://cdn.plot.ly/plotly-2.35.2.min.js\"></script>                <div id=\"154466e0-50dc-48e8-b44d-7b0032d21337\" class=\"plotly-graph-div\" style=\"height:500px; width:100%;\"></div>            <script type=\"text/javascript\">                                    window.PLOTLYENV=window.PLOTLYENV || {};                                    if (document.getElementById(\"154466e0-50dc-48e8-b44d-7b0032d21337\")) {                    Plotly.newPlot(                        \"154466e0-50dc-48e8-b44d-7b0032d21337\",                        [{\"hovertemplate\":\"\\u003cb\\u003e%{x}\\u003c\\u002fb\\u003e\\u003cbr\\u003eRevenue: ¥ %{y:,.2f}\\u003cextra\\u003e\\u003c\\u002fextra\\u003e\",\"legendgroup\":\"\",\"line\":{\"color\":\"#636efa\",\"dash\":\"solid\",\"shape\":\"spline\",\"width\":3},\"marker\":{\"symbol\":\"circle\",\"size\":6},\"mode\":\"lines+markers\",\"name\":\"\",\"orientation\":\"v\",\"showlegend\":false,\"x\":[\"2020-07\",\"2020-08\",\"2020-09\",\"2020-10\",\"2020-11\",\"2020-12\",\"2021-01\",\"2021-02\",\"2021-03\",\"2021-04\",\"2021-05\",\"2021-06\",\"2021-07\",\"2021-08\",\"2021-09\",\"2021-10\",\"2021-11\",\"2021-12\",\"2022-01\",\"2022-02\",\"2022-03\",\"2022-04\",\"2022-05\",\"2022-06\",\"2022-07\",\"2022-08\",\"2022-09\",\"2022-10\",\"2022-11\",\"2022-12\",\"2023-01\",\"2023-02\",\"2023-03\",\"2023-04\",\"2023-05\",\"2023-06\"],\"xaxis\":\"x\",\"y\":[122550.2935,133930.3319,106520.8334,122685.2828,84574.692,99267.8393,135735.115,178817.904,92091.7412,74633.4324,68115.3604,66851.8856,83136.9524,108694.5554,91217.3984,84693.8128,57670.3175,58704.1788,114624.3682,80479.2356,75969.6413,66158.1451,55437.7304,52933.3625,91660.6354,119016.8562,112140.5012,119405.154,73256.4008,75690.37240000001,156731.8232,91944.2837,91557.7159,74779.4013,77993.4051,70095.5177],\"yaxis\":\"y\",\"type\":\"scatter\"}],                        {\"template\":{\"data\":{\"histogram2dcontour\":[{\"type\":\"histogram2dcontour\",\"colorbar\":{\"outlinewidth\":0,\"ticks\":\"\"},\"colorscale\":[[0.0,\"#0d0887\"],[0.1111111111111111,\"#46039f\"],[0.2222222222222222,\"#7201a8\"],[0.3333333333333333,\"#9c179e\"],[0.4444444444444444,\"#bd3786\"],[0.5555555555555556,\"#d8576b\"],[0.6666666666666666,\"#ed7953\"],[0.7777777777777778,\"#fb9f3a\"],[0.8888888888888888,\"#fdca26\"],[1.0,\"#f0f921\"]]}],\"choropleth\":[{\"type\":\"choropleth\",\"colorbar\":{\"outlinewidth\":0,\"ticks\":\"\"}}],\"histogram2d\":[{\"type\":\"histogram2d\",\"colorbar\":{\"outlinewidth\":0,\"ticks\":\"\"},\"colorscale\":[[0.0,\"#0d0887\"],[0.1111111111111111,\"#46039f\"],[0.2222222222222222,\"#7201a8\"],[0.3333333333333333,\"#9c179e\"],[0.4444444444444444,\"#bd3786\"],[0.5555555555555556,\"#d8576b\"],[0.6666666666666666,\"#ed7953\"],[0.7777777777777778,\"#fb9f3a\"],[0.8888888888888888,\"#fdca26\"],[1.0,\"#f0f921\"]]}],\"heatmap\":[{\"type\":\"heatmap\",\"colorbar\":{\"outlinewidth\":0,\"ticks\":\"\"},\"colorscale\":[[0.0,\"#0d0887\"],[0.1111111111111111,\"#46039f\"],[0.2222222222222222,\"#7201a8\"],[0.3333333333333333,\"#9c179e\"],[0.4444444444444444,\"#bd3786\"],[0.5555555555555556,\"#d8576b\"],[0.6666666666666666,\"#ed7953\"],[0.7777777777777778,\"#fb9f3a\"],[0.8888888888888888,\"#fdca26\"],[1.0,\"#f0f921\"]]}],\"heatmapgl\":[{\"type\":\"heatmapgl\",\"colorbar\":{\"outlinewidth\":0,\"ticks\":\"\"},\"colorscale\":[[0.0,\"#0d0887\"],[0.1111111111111111,\"#46039f\"],[0.2222222222222222,\"#7201a8\"],[0.3333333333333333,\"#9c179e\"],[0.4444444444444444,\"#bd3786\"],[0.5555555555555556,\"#d8576b\"],[0.6666666666666666,\"#ed7953\"],[0.7777777777777778,\"#fb9f3a\"],[0.8888888888888888,\"#fdca26\"],[1.0,\"#f0f921\"]]}],\"contourcarpet\":[{\"type\":\"contourcarpet\",\"colorbar\":{\"outlinewidth\":0,\"ticks\":\"\"}}],\"contour\":[{\"type\":\"contour\",\"colorbar\":{\"outlinewidth\":0,\"ticks\":\"\"},\"colorscale\":[[0.0,\"#0d0887\"],[0.1111111111111111,\"#46039f\"],[0.2222222222222222,\"#7201a8\"],[0.3333333333333333,\"#9c179e\"],[0.4444444444444444,\"#bd3786\"],[0.5555555555555556,\"#d8576b\"],[0.6666666666666666,\"#ed7953\"],[0.7777777777777778,\"#fb9f3a\"],[0.8888888888888888,\"#fdca26\"],[1.0,\"#f0f921\"]]}],\"surface\":[{\"type\":\"surface\",\"colorbar\":{\"outlinewidth\":0,\"ticks\":\"\"},\"colorscale\":[[0.0,\"#0d0887\"],[0.1111111111111111,\"#46039f\"],[0.2222222222222222,\"#7201a8\"],[0.3333333333333333,\"#9c179e\"],[0.4444444444444444,\"#bd3786\"],[0.5555555555555556,\"#d8576b\"],[0.6666666666666666,\"#ed7953\"],[0.7777777777777778,\"#fb9f3a\"],[0.8888888888888888,\"#fdca26\"],[1.0,\"#f0f921\"]]}],\"mesh3d\":[{\"type\":\"mesh3d\",\"colorbar\":{\"outlinewidth\":0,\"ticks\":\"\"}}],\"scatter\":[{\"fillpattern\":{\"fillmode\":\"overlay\",\"size\":10,\"solidity\":0.2},\"type\":\"scatter\"}],\"parcoords\":[{\"type\":\"parcoords\",\"line\":{\"colorbar\":{\"outlinewidth\":0,\"ticks\":\"\"}}}],\"scatterpolargl\":[{\"type\":\"scatterpolargl\",\"marker\":{\"colorbar\":{\"outlinewidth\":0,\"ticks\":\"\"}}}],\"bar\":[{\"error_x\":{\"color\":\"#2a3f5f\"},\"error_y\":{\"color\":\"#2a3f5f\"},\"marker\":{\"line\":{\"color\":\"#E5ECF6\",\"width\":0.5},\"pattern\":{\"fillmode\":\"overlay\",\"size\":10,\"solidity\":0.2}},\"type\":\"bar\"}],\"scattergeo\":[{\"type\":\"scattergeo\",\"marker\":{\"colorbar\":{\"outlinewidth\":0,\"ticks\":\"\"}}}],\"scatterpolar\":[{\"type\":\"scatterpolar\",\"marker\":{\"colorbar\":{\"outlinewidth\":0,\"ticks\":\"\"}}}],\"histogram\":[{\"marker\":{\"pattern\":{\"fillmode\":\"overlay\",\"size\":10,\"solidity\":0.2}},\"type\":\"histogram\"}],\"scattergl\":[{\"type\":\"scattergl\",\"marker\":{\"colorbar\":{\"outlinewidth\":0,\"ticks\":\"\"}}}],\"scatter3d\":[{\"type\":\"scatter3d\",\"line\":{\"colorbar\":{\"outlinewidth\":0,\"ticks\":\"\"}},\"marker\":{\"colorbar\":{\"outlinewidth\":0,\"ticks\":\"\"}}}],\"scattermapbox\":[{\"type\":\"scattermapbox\",\"marker\":{\"colorbar\":{\"outlinewidth\":0,\"ticks\":\"\"}}}],\"scatterternary\":[{\"type\":\"scatterternary\",\"marker\":{\"colorbar\":{\"outlinewidth\":0,\"ticks\":\"\"}}}],\"scattercarpet\":[{\"type\":\"scattercarpet\",\"marker\":{\"colorbar\":{\"outlinewidth\":0,\"ticks\":\"\"}}}],\"carpet\":[{\"aaxis\":{\"endlinecolor\":\"#2a3f5f\",\"gridcolor\":\"white\",\"linecolor\":\"white\",\"minorgridcolor\":\"white\",\"startlinecolor\":\"#2a3f5f\"},\"baxis\":{\"endlinecolor\":\"#2a3f5f\",\"gridcolor\":\"white\",\"linecolor\":\"white\",\"minorgridcolor\":\"white\",\"startlinecolor\":\"#2a3f5f\"},\"type\":\"carpet\"}],\"table\":[{\"cells\":{\"fill\":{\"color\":\"#EBF0F8\"},\"line\":{\"color\":\"white\"}},\"header\":{\"fill\":{\"color\":\"#C8D4E3\"},\"line\":{\"color\":\"white\"}},\"type\":\"table\"}],\"barpolar\":[{\"marker\":{\"line\":{\"color\":\"#E5ECF6\",\"width\":0.5},\"pattern\":{\"fillmode\":\"overlay\",\"size\":10,\"solidity\":0.2}},\"type\":\"barpolar\"}],\"pie\":[{\"automargin\":true,\"type\":\"pie\"}]},\"layout\":{\"autotypenumbers\":\"strict\",\"colorway\":[\"#636efa\",\"#EF553B\",\"#00cc96\",\"#ab63fa\",\"#FFA15A\",\"#19d3f3\",\"#FF6692\",\"#B6E880\",\"#FF97FF\",\"#FECB52\"],\"font\":{\"color\":\"#2a3f5f\"},\"hovermode\":\"closest\",\"hoverlabel\":{\"align\":\"left\"},\"paper_bgcolor\":\"white\",\"plot_bgcolor\":\"#E5ECF6\",\"polar\":{\"bgcolor\":\"#E5ECF6\",\"angularaxis\":{\"gridcolor\":\"white\",\"linecolor\":\"white\",\"ticks\":\"\"},\"radialaxis\":{\"gridcolor\":\"white\",\"linecolor\":\"white\",\"ticks\":\"\"}},\"ternary\":{\"bgcolor\":\"#E5ECF6\",\"aaxis\":{\"gridcolor\":\"white\",\"linecolor\":\"white\",\"ticks\":\"\"},\"baxis\":{\"gridcolor\":\"white\",\"linecolor\":\"white\",\"ticks\":\"\"},\"caxis\":{\"gridcolor\":\"white\",\"linecolor\":\"white\",\"ticks\":\"\"}},\"coloraxis\":{\"colorbar\":{\"outlinewidth\":0,\"ticks\":\"\"}},\"colorscale\":{\"sequential\":[[0.0,\"#0d0887\"],[0.1111111111111111,\"#46039f\"],[0.2222222222222222,\"#7201a8\"],[0.3333333333333333,\"#9c179e\"],[0.4444444444444444,\"#bd3786\"],[0.5555555555555556,\"#d8576b\"],[0.6666666666666666,\"#ed7953\"],[0.7777777777777778,\"#fb9f3a\"],[0.8888888888888888,\"#fdca26\"],[1.0,\"#f0f921\"]],\"sequentialminus\":[[0.0,\"#0d0887\"],[0.1111111111111111,\"#46039f\"],[0.2222222222222222,\"#7201a8\"],[0.3333333333333333,\"#9c179e\"],[0.4444444444444444,\"#bd3786\"],[0.5555555555555556,\"#d8576b\"],[0.6666666666666666,\"#ed7953\"],[0.7777777777777778,\"#fb9f3a\"],[0.8888888888888888,\"#fdca26\"],[1.0,\"#f0f921\"]],\"diverging\":[[0,\"#8e0152\"],[0.1,\"#c51b7d\"],[0.2,\"#de77ae\"],[0.3,\"#f1b6da\"],[0.4,\"#fde0ef\"],[0.5,\"#f7f7f7\"],[0.6,\"#e6f5d0\"],[0.7,\"#b8e186\"],[0.8,\"#7fbc41\"],[0.9,\"#4d9221\"],[1,\"#276419\"]]},\"xaxis\":{\"gridcolor\":\"white\",\"linecolor\":\"white\",\"ticks\":\"\",\"title\":{\"standoff\":15},\"zerolinecolor\":\"white\",\"automargin\":true,\"zerolinewidth\":2},\"yaxis\":{\"gridcolor\":\"white\",\"linecolor\":\"white\",\"ticks\":\"\",\"title\":{\"standoff\":15},\"zerolinecolor\":\"white\",\"automargin\":true,\"zerolinewidth\":2},\"scene\":{\"xaxis\":{\"backgroundcolor\":\"#E5ECF6\",\"gridcolor\":\"white\",\"linecolor\":\"white\",\"showbackground\":true,\"ticks\":\"\",\"zerolinecolor\":\"white\",\"gridwidth\":2},\"yaxis\":{\"backgroundcolor\":\"#E5ECF6\",\"gridcolor\":\"white\",\"linecolor\":\"white\",\"showbackground\":true,\"ticks\":\"\",\"zerolinecolor\":\"white\",\"gridwidth\":2},\"zaxis\":{\"backgroundcolor\":\"#E5ECF6\",\"gridcolor\":\"white\",\"linecolor\":\"white\",\"showbackground\":true,\"ticks\":\"\",\"zerolinecolor\":\"white\",\"gridwidth\":2}},\"shapedefaults\":{\"line\":{\"color\":\"#2a3f5f\"}},\"annotationdefaults\":{\"arrowcolor\":\"#2a3f5f\",\"arrowhead\":0,\"arrowwidth\":1},\"geo\":{\"bgcolor\":\"white\",\"landcolor\":\"#E5ECF6\",\"subunitcolor\":\"white\",\"showland\":true,\"showlakes\":true,\"lakecolor\":\"white\"},\"title\":{\"x\":0.05},\"mapbox\":{\"style\":\"light\"}}},\"xaxis\":{\"anchor\":\"y\",\"domain\":[0.0,1.0],\"title\":{\"text\":\"Period\"},\"tickfont\":{\"family\":\"Arial\",\"size\":12,\"color\":\"rgb(82, 82, 82)\"},\"showline\":true,\"showgrid\":false,\"linecolor\":\"rgb(204, 204, 204)\",\"linewidth\":2,\"tickangle\":0},\"yaxis\":{\"anchor\":\"x\",\"domain\":[0.0,1.0],\"title\":{\"text\":\"Total Revenue (¥)\"},\"tickfont\":{\"family\":\"Arial\",\"size\":12},\"showgrid\":true,\"zeroline\":true,\"gridcolor\":\"lightgray\",\"tickprefix\":\"¥ \",\"separatethousands\":true},\"legend\":{\"tracegroupgap\":0},\"margin\":{\"t\":80,\"l\":60,\"r\":60,\"b\":80},\"title\":{\"text\":\"Total Revenue Over Time\",\"font\":{\"size\":20,\"family\":\"Arial\",\"color\":\"black\"}},\"plot_bgcolor\":\"white\",\"hovermode\":\"x unified\",\"height\":500,\"showlegend\":false},                        {\"responsive\": true}                    ).then(function(){\n",
       "                            \n",
       "var gd = document.getElementById('154466e0-50dc-48e8-b44d-7b0032d21337');\n",
       "var x = new MutationObserver(function (mutations, observer) {{\n",
       "        var display = window.getComputedStyle(gd).display;\n",
       "        if (!display || display === 'none') {{\n",
       "            console.log([gd, 'removed!']);\n",
       "            Plotly.purge(gd);\n",
       "            observer.disconnect();\n",
       "        }}\n",
       "}});\n",
       "\n",
       "// Listen for the removal of the full notebook cells\n",
       "var notebookContainer = gd.closest('#notebook-container');\n",
       "if (notebookContainer) {{\n",
       "    x.observe(notebookContainer, {childList: true});\n",
       "}}\n",
       "\n",
       "// Listen for the clearing of the current output cell\n",
       "var outputEl = gd.closest('.output');\n",
       "if (outputEl) {{\n",
       "    x.observe(outputEl, {childList: true});\n",
       "}}\n",
       "\n",
       "                        })                };                            </script>        </div>\n",
       "</body>\n",
       "</html>"
      ]
     },
     "metadata": {},
     "output_type": "display_data"
    }
   ],
   "source": [
    "# create a function to plot a chart\n",
    "def chart_sales_by_period(df):\n",
    "\n",
    "    # Aggregate total revenue by period\n",
    "    data = df.groupby(df['Date'].dt.to_period('M'))['total_revenue'].sum().reset_index()\n",
    "\n",
    "    # Create the line chart\n",
    "    fig = px.line(data, x=data['Date'].dt.strftime('%Y-%m'), y='total_revenue', line_shape='spline', markers=True, labels={'YearMonth': 'Period (Year-Month)', 'total_revenue': 'Total Revenue'},)\n",
    "\n",
    "    # Update chart layout\n",
    "    fig.update_layout(\n",
    "        title='Total Revenue Over Time',\n",
    "        title_font = dict(size=20, family='Arial', color='black'),\n",
    "        xaxis = dict(title='Period', showline=True, showgrid=False, linecolor='rgb(204, 204, 204)', linewidth=2, tickangle=0, tickfont=dict(family='Arial', size=12, color='rgb(82, 82, 82)'),),\n",
    "        yaxis = dict(title='Total Revenue (¥)', showgrid=True, zeroline=True, gridcolor='lightgray', tickfont=dict(family='Arial', size=12), tickprefix='¥ ', separatethousands=True),\n",
    "        margin = dict(l=60, r=60, t=80, b=80),\n",
    "        plot_bgcolor = 'white',\n",
    "        hovermode = 'x unified',\n",
    "        height = 500,\n",
    "        showlegend = False\n",
    "    )\n",
    "\n",
    "    # Customize hover tooltip and line style\n",
    "    fig.update_traces(hovertemplate='<b>%{x}</b><br>Revenue: ¥ %{y:,.2f}<extra></extra>', line=dict(width=3), marker=dict(size=6))\n",
    "\n",
    "    fig.show()\n",
    "\n",
    "chart_sales_by_period(df)"
   ]
  },
  {
   "cell_type": "code",
   "execution_count": 20,
   "id": "02cf672f",
   "metadata": {
    "execution": {
     "iopub.execute_input": "2025-05-27T20:34:32.471320Z",
     "iopub.status.busy": "2025-05-27T20:34:32.471008Z",
     "iopub.status.idle": "2025-05-27T20:34:32.662723Z",
     "shell.execute_reply": "2025-05-27T20:34:32.661858Z"
    },
    "papermill": {
     "duration": 0.200272,
     "end_time": "2025-05-27T20:34:32.664235",
     "exception": false,
     "start_time": "2025-05-27T20:34:32.463963",
     "status": "completed"
    },
    "tags": []
   },
   "outputs": [
    {
     "data": {
      "text/html": [
       "<html>\n",
       "<head><meta charset=\"utf-8\" /></head>\n",
       "<body>\n",
       "    <div>            <script src=\"https://cdnjs.cloudflare.com/ajax/libs/mathjax/2.7.5/MathJax.js?config=TeX-AMS-MML_SVG\"></script><script type=\"text/javascript\">if (window.MathJax && window.MathJax.Hub && window.MathJax.Hub.Config) {window.MathJax.Hub.Config({SVG: {font: \"STIX-Web\"}});}</script>                <script type=\"text/javascript\">window.PlotlyConfig = {MathJaxConfig: 'local'};</script>\n",
       "        <script charset=\"utf-8\" src=\"https://cdn.plot.ly/plotly-2.35.2.min.js\"></script>                <div id=\"753e4497-aab8-499e-97cc-759316fa04ec\" class=\"plotly-graph-div\" style=\"height:500px; width:100%;\"></div>            <script type=\"text/javascript\">                                    window.PLOTLYENV=window.PLOTLYENV || {};                                    if (document.getElementById(\"753e4497-aab8-499e-97cc-759316fa04ec\")) {                    Plotly.newPlot(                        \"753e4497-aab8-499e-97cc-759316fa04ec\",                        [{\"marker\":{\"color\":\"rgb(55, 83, 109)\"},\"name\":\"Sales\",\"x\":[\"2020-07\",\"2020-08\",\"2020-09\",\"2020-10\",\"2020-11\",\"2020-12\",\"2021-01\",\"2021-02\",\"2021-03\",\"2021-04\",\"2021-05\",\"2021-06\",\"2021-07\",\"2021-08\",\"2021-09\",\"2021-10\",\"2021-11\",\"2021-12\",\"2022-01\",\"2022-02\",\"2022-03\",\"2022-04\",\"2022-05\",\"2022-06\",\"2022-07\",\"2022-08\",\"2022-09\",\"2022-10\",\"2022-11\",\"2022-12\",\"2023-01\",\"2023-02\",\"2023-03\",\"2023-04\",\"2023-05\",\"2023-06\"],\"y\":[122761.2647,133932.0319,106561.182,122721.6468,84608.6888,99426.0633,135749.835,178876.1668,92141.1032,74642.2614,68128.0844,66899.0176,83150.4716,108710.7394,91379.1526,85014.519,57732.2449,58745.9588,114691.0058,80506.5836,75998.9733,66182.7651,55444.3898,52962.3417,91684.553,119061.8056,112236.55470000001,119539.1062,73308.5448,75732.57920000001,156791.9578,91982.2837,91790.4641,74825.2669,78000.3171,70103.4177],\"type\":\"bar\"},{\"marker\":{\"color\":\"crimson\"},\"name\":\"Return\",\"x\":[\"2020-07\",\"2020-08\",\"2020-09\",\"2020-10\",\"2020-11\",\"2020-12\",\"2021-01\",\"2021-02\",\"2021-03\",\"2021-04\",\"2021-05\",\"2021-06\",\"2021-07\",\"2021-08\",\"2021-09\",\"2021-10\",\"2021-11\",\"2021-12\",\"2022-01\",\"2022-02\",\"2022-03\",\"2022-04\",\"2022-05\",\"2022-06\",\"2022-07\",\"2022-08\",\"2022-09\",\"2022-10\",\"2022-11\",\"2022-12\",\"2023-01\",\"2023-02\",\"2023-03\",\"2023-04\",\"2023-05\",\"2023-06\"],\"y\":[210.9712,1.7000000000000002,40.348600000000005,36.364,33.9968,158.224,14.72,58.262800000000006,49.362,8.829,12.724,47.132,13.5192,16.184,161.7542,320.7062,61.927400000000006,41.78,66.63759999999999,27.348,29.332,24.62,6.659400000000001,28.9792,23.9176,44.9494,96.0535,133.9522,52.144000000000005,42.2068,60.1346,38.0,232.7482,45.8656,6.912000000000001,7.9],\"type\":\"bar\"}],                        {\"template\":{\"data\":{\"histogram2dcontour\":[{\"type\":\"histogram2dcontour\",\"colorbar\":{\"outlinewidth\":0,\"ticks\":\"\"},\"colorscale\":[[0.0,\"#0d0887\"],[0.1111111111111111,\"#46039f\"],[0.2222222222222222,\"#7201a8\"],[0.3333333333333333,\"#9c179e\"],[0.4444444444444444,\"#bd3786\"],[0.5555555555555556,\"#d8576b\"],[0.6666666666666666,\"#ed7953\"],[0.7777777777777778,\"#fb9f3a\"],[0.8888888888888888,\"#fdca26\"],[1.0,\"#f0f921\"]]}],\"choropleth\":[{\"type\":\"choropleth\",\"colorbar\":{\"outlinewidth\":0,\"ticks\":\"\"}}],\"histogram2d\":[{\"type\":\"histogram2d\",\"colorbar\":{\"outlinewidth\":0,\"ticks\":\"\"},\"colorscale\":[[0.0,\"#0d0887\"],[0.1111111111111111,\"#46039f\"],[0.2222222222222222,\"#7201a8\"],[0.3333333333333333,\"#9c179e\"],[0.4444444444444444,\"#bd3786\"],[0.5555555555555556,\"#d8576b\"],[0.6666666666666666,\"#ed7953\"],[0.7777777777777778,\"#fb9f3a\"],[0.8888888888888888,\"#fdca26\"],[1.0,\"#f0f921\"]]}],\"heatmap\":[{\"type\":\"heatmap\",\"colorbar\":{\"outlinewidth\":0,\"ticks\":\"\"},\"colorscale\":[[0.0,\"#0d0887\"],[0.1111111111111111,\"#46039f\"],[0.2222222222222222,\"#7201a8\"],[0.3333333333333333,\"#9c179e\"],[0.4444444444444444,\"#bd3786\"],[0.5555555555555556,\"#d8576b\"],[0.6666666666666666,\"#ed7953\"],[0.7777777777777778,\"#fb9f3a\"],[0.8888888888888888,\"#fdca26\"],[1.0,\"#f0f921\"]]}],\"heatmapgl\":[{\"type\":\"heatmapgl\",\"colorbar\":{\"outlinewidth\":0,\"ticks\":\"\"},\"colorscale\":[[0.0,\"#0d0887\"],[0.1111111111111111,\"#46039f\"],[0.2222222222222222,\"#7201a8\"],[0.3333333333333333,\"#9c179e\"],[0.4444444444444444,\"#bd3786\"],[0.5555555555555556,\"#d8576b\"],[0.6666666666666666,\"#ed7953\"],[0.7777777777777778,\"#fb9f3a\"],[0.8888888888888888,\"#fdca26\"],[1.0,\"#f0f921\"]]}],\"contourcarpet\":[{\"type\":\"contourcarpet\",\"colorbar\":{\"outlinewidth\":0,\"ticks\":\"\"}}],\"contour\":[{\"type\":\"contour\",\"colorbar\":{\"outlinewidth\":0,\"ticks\":\"\"},\"colorscale\":[[0.0,\"#0d0887\"],[0.1111111111111111,\"#46039f\"],[0.2222222222222222,\"#7201a8\"],[0.3333333333333333,\"#9c179e\"],[0.4444444444444444,\"#bd3786\"],[0.5555555555555556,\"#d8576b\"],[0.6666666666666666,\"#ed7953\"],[0.7777777777777778,\"#fb9f3a\"],[0.8888888888888888,\"#fdca26\"],[1.0,\"#f0f921\"]]}],\"surface\":[{\"type\":\"surface\",\"colorbar\":{\"outlinewidth\":0,\"ticks\":\"\"},\"colorscale\":[[0.0,\"#0d0887\"],[0.1111111111111111,\"#46039f\"],[0.2222222222222222,\"#7201a8\"],[0.3333333333333333,\"#9c179e\"],[0.4444444444444444,\"#bd3786\"],[0.5555555555555556,\"#d8576b\"],[0.6666666666666666,\"#ed7953\"],[0.7777777777777778,\"#fb9f3a\"],[0.8888888888888888,\"#fdca26\"],[1.0,\"#f0f921\"]]}],\"mesh3d\":[{\"type\":\"mesh3d\",\"colorbar\":{\"outlinewidth\":0,\"ticks\":\"\"}}],\"scatter\":[{\"fillpattern\":{\"fillmode\":\"overlay\",\"size\":10,\"solidity\":0.2},\"type\":\"scatter\"}],\"parcoords\":[{\"type\":\"parcoords\",\"line\":{\"colorbar\":{\"outlinewidth\":0,\"ticks\":\"\"}}}],\"scatterpolargl\":[{\"type\":\"scatterpolargl\",\"marker\":{\"colorbar\":{\"outlinewidth\":0,\"ticks\":\"\"}}}],\"bar\":[{\"error_x\":{\"color\":\"#2a3f5f\"},\"error_y\":{\"color\":\"#2a3f5f\"},\"marker\":{\"line\":{\"color\":\"#E5ECF6\",\"width\":0.5},\"pattern\":{\"fillmode\":\"overlay\",\"size\":10,\"solidity\":0.2}},\"type\":\"bar\"}],\"scattergeo\":[{\"type\":\"scattergeo\",\"marker\":{\"colorbar\":{\"outlinewidth\":0,\"ticks\":\"\"}}}],\"scatterpolar\":[{\"type\":\"scatterpolar\",\"marker\":{\"colorbar\":{\"outlinewidth\":0,\"ticks\":\"\"}}}],\"histogram\":[{\"marker\":{\"pattern\":{\"fillmode\":\"overlay\",\"size\":10,\"solidity\":0.2}},\"type\":\"histogram\"}],\"scattergl\":[{\"type\":\"scattergl\",\"marker\":{\"colorbar\":{\"outlinewidth\":0,\"ticks\":\"\"}}}],\"scatter3d\":[{\"type\":\"scatter3d\",\"line\":{\"colorbar\":{\"outlinewidth\":0,\"ticks\":\"\"}},\"marker\":{\"colorbar\":{\"outlinewidth\":0,\"ticks\":\"\"}}}],\"scattermapbox\":[{\"type\":\"scattermapbox\",\"marker\":{\"colorbar\":{\"outlinewidth\":0,\"ticks\":\"\"}}}],\"scatterternary\":[{\"type\":\"scatterternary\",\"marker\":{\"colorbar\":{\"outlinewidth\":0,\"ticks\":\"\"}}}],\"scattercarpet\":[{\"type\":\"scattercarpet\",\"marker\":{\"colorbar\":{\"outlinewidth\":0,\"ticks\":\"\"}}}],\"carpet\":[{\"aaxis\":{\"endlinecolor\":\"#2a3f5f\",\"gridcolor\":\"white\",\"linecolor\":\"white\",\"minorgridcolor\":\"white\",\"startlinecolor\":\"#2a3f5f\"},\"baxis\":{\"endlinecolor\":\"#2a3f5f\",\"gridcolor\":\"white\",\"linecolor\":\"white\",\"minorgridcolor\":\"white\",\"startlinecolor\":\"#2a3f5f\"},\"type\":\"carpet\"}],\"table\":[{\"cells\":{\"fill\":{\"color\":\"#EBF0F8\"},\"line\":{\"color\":\"white\"}},\"header\":{\"fill\":{\"color\":\"#C8D4E3\"},\"line\":{\"color\":\"white\"}},\"type\":\"table\"}],\"barpolar\":[{\"marker\":{\"line\":{\"color\":\"#E5ECF6\",\"width\":0.5},\"pattern\":{\"fillmode\":\"overlay\",\"size\":10,\"solidity\":0.2}},\"type\":\"barpolar\"}],\"pie\":[{\"automargin\":true,\"type\":\"pie\"}]},\"layout\":{\"autotypenumbers\":\"strict\",\"colorway\":[\"#636efa\",\"#EF553B\",\"#00cc96\",\"#ab63fa\",\"#FFA15A\",\"#19d3f3\",\"#FF6692\",\"#B6E880\",\"#FF97FF\",\"#FECB52\"],\"font\":{\"color\":\"#2a3f5f\"},\"hovermode\":\"closest\",\"hoverlabel\":{\"align\":\"left\"},\"paper_bgcolor\":\"white\",\"plot_bgcolor\":\"#E5ECF6\",\"polar\":{\"bgcolor\":\"#E5ECF6\",\"angularaxis\":{\"gridcolor\":\"white\",\"linecolor\":\"white\",\"ticks\":\"\"},\"radialaxis\":{\"gridcolor\":\"white\",\"linecolor\":\"white\",\"ticks\":\"\"}},\"ternary\":{\"bgcolor\":\"#E5ECF6\",\"aaxis\":{\"gridcolor\":\"white\",\"linecolor\":\"white\",\"ticks\":\"\"},\"baxis\":{\"gridcolor\":\"white\",\"linecolor\":\"white\",\"ticks\":\"\"},\"caxis\":{\"gridcolor\":\"white\",\"linecolor\":\"white\",\"ticks\":\"\"}},\"coloraxis\":{\"colorbar\":{\"outlinewidth\":0,\"ticks\":\"\"}},\"colorscale\":{\"sequential\":[[0.0,\"#0d0887\"],[0.1111111111111111,\"#46039f\"],[0.2222222222222222,\"#7201a8\"],[0.3333333333333333,\"#9c179e\"],[0.4444444444444444,\"#bd3786\"],[0.5555555555555556,\"#d8576b\"],[0.6666666666666666,\"#ed7953\"],[0.7777777777777778,\"#fb9f3a\"],[0.8888888888888888,\"#fdca26\"],[1.0,\"#f0f921\"]],\"sequentialminus\":[[0.0,\"#0d0887\"],[0.1111111111111111,\"#46039f\"],[0.2222222222222222,\"#7201a8\"],[0.3333333333333333,\"#9c179e\"],[0.4444444444444444,\"#bd3786\"],[0.5555555555555556,\"#d8576b\"],[0.6666666666666666,\"#ed7953\"],[0.7777777777777778,\"#fb9f3a\"],[0.8888888888888888,\"#fdca26\"],[1.0,\"#f0f921\"]],\"diverging\":[[0,\"#8e0152\"],[0.1,\"#c51b7d\"],[0.2,\"#de77ae\"],[0.3,\"#f1b6da\"],[0.4,\"#fde0ef\"],[0.5,\"#f7f7f7\"],[0.6,\"#e6f5d0\"],[0.7,\"#b8e186\"],[0.8,\"#7fbc41\"],[0.9,\"#4d9221\"],[1,\"#276419\"]]},\"xaxis\":{\"gridcolor\":\"white\",\"linecolor\":\"white\",\"ticks\":\"\",\"title\":{\"standoff\":15},\"zerolinecolor\":\"white\",\"automargin\":true,\"zerolinewidth\":2},\"yaxis\":{\"gridcolor\":\"white\",\"linecolor\":\"white\",\"ticks\":\"\",\"title\":{\"standoff\":15},\"zerolinecolor\":\"white\",\"automargin\":true,\"zerolinewidth\":2},\"scene\":{\"xaxis\":{\"backgroundcolor\":\"#E5ECF6\",\"gridcolor\":\"white\",\"linecolor\":\"white\",\"showbackground\":true,\"ticks\":\"\",\"zerolinecolor\":\"white\",\"gridwidth\":2},\"yaxis\":{\"backgroundcolor\":\"#E5ECF6\",\"gridcolor\":\"white\",\"linecolor\":\"white\",\"showbackground\":true,\"ticks\":\"\",\"zerolinecolor\":\"white\",\"gridwidth\":2},\"zaxis\":{\"backgroundcolor\":\"#E5ECF6\",\"gridcolor\":\"white\",\"linecolor\":\"white\",\"showbackground\":true,\"ticks\":\"\",\"zerolinecolor\":\"white\",\"gridwidth\":2}},\"shapedefaults\":{\"line\":{\"color\":\"#2a3f5f\"}},\"annotationdefaults\":{\"arrowcolor\":\"#2a3f5f\",\"arrowhead\":0,\"arrowwidth\":1},\"geo\":{\"bgcolor\":\"white\",\"landcolor\":\"#E5ECF6\",\"subunitcolor\":\"white\",\"showland\":true,\"showlakes\":true,\"lakecolor\":\"white\"},\"title\":{\"x\":0.05},\"mapbox\":{\"style\":\"light\"}}},\"title\":{\"text\":\"Total Sales and Retunr Over Time\",\"font\":{\"size\":20,\"family\":\"Arial\",\"color\":\"black\"}},\"xaxis\":{\"tickfont\":{\"family\":\"Arial\",\"size\":12,\"color\":\"rgb(82, 82, 82)\"},\"title\":{\"text\":\"Period\"},\"showline\":true,\"showgrid\":false,\"linecolor\":\"rgb(204, 204, 204)\",\"linewidth\":2,\"tickangle\":0},\"yaxis\":{\"tickfont\":{\"family\":\"Arial\",\"size\":12},\"title\":{\"text\":\"Total Sales and Return (¥)\"},\"showgrid\":true,\"zeroline\":true,\"gridcolor\":\"lightgray\",\"tickprefix\":\"¥ \",\"separatethousands\":true},\"margin\":{\"l\":60,\"r\":60,\"t\":80,\"b\":80},\"plot_bgcolor\":\"white\",\"hovermode\":\"x unified\",\"height\":500,\"showlegend\":true,\"barmode\":\"stack\"},                        {\"responsive\": true}                    ).then(function(){\n",
       "                            \n",
       "var gd = document.getElementById('753e4497-aab8-499e-97cc-759316fa04ec');\n",
       "var x = new MutationObserver(function (mutations, observer) {{\n",
       "        var display = window.getComputedStyle(gd).display;\n",
       "        if (!display || display === 'none') {{\n",
       "            console.log([gd, 'removed!']);\n",
       "            Plotly.purge(gd);\n",
       "            observer.disconnect();\n",
       "        }}\n",
       "}});\n",
       "\n",
       "// Listen for the removal of the full notebook cells\n",
       "var notebookContainer = gd.closest('#notebook-container');\n",
       "if (notebookContainer) {{\n",
       "    x.observe(notebookContainer, {childList: true});\n",
       "}}\n",
       "\n",
       "// Listen for the clearing of the current output cell\n",
       "var outputEl = gd.closest('.output');\n",
       "if (outputEl) {{\n",
       "    x.observe(outputEl, {childList: true});\n",
       "}}\n",
       "\n",
       "                        })                };                            </script>        </div>\n",
       "</body>\n",
       "</html>"
      ]
     },
     "metadata": {},
     "output_type": "display_data"
    }
   ],
   "source": [
    "# create a function to plot a chart\n",
    "def chart_sales_by_period(df):\n",
    "\n",
    "    # Aggregate total revenue by period\n",
    "    data = df.groupby([df['Date'].dt.to_period('M'), 'Sale or Return']).agg({'total_revenue': 'sum'}).reset_index().pivot(index='Date', columns='Sale or Return', values='total_revenue').reset_index()\n",
    "    \n",
    "    data['return'] = data['return'] * -1\n",
    "    \n",
    "    fig = go.Figure()\n",
    "\n",
    "    # Create the bar chart\n",
    "    fig.add_trace(go.Bar(x = data['Date'].dt.strftime('%Y-%m'), y=data['sale'].tolist(), name='Sales', marker_color='rgb(55, 83, 109)'))\n",
    "    fig.add_trace(go.Bar(x = data['Date'].dt.strftime('%Y-%m'), y=data['return'].tolist(), name='Return', marker_color='crimson' ))\n",
    "\n",
    "    # Update chart layout\n",
    "    fig.update_layout(\n",
    "        title='Total Sales and Retunr Over Time',\n",
    "        title_font = dict(size=20, family='Arial', color='black'),\n",
    "        xaxis = dict(title='Period', showline=True, showgrid=False, linecolor='rgb(204, 204, 204)', linewidth=2, tickangle=0, tickfont=dict(family='Arial', size=12, color='rgb(82, 82, 82)'),),\n",
    "        yaxis = dict(title='Total Sales and Return (¥)', showgrid=True, zeroline=True, gridcolor='lightgray', tickfont=dict(family='Arial', size=12), tickprefix='¥ ', separatethousands=True),\n",
    "        margin = dict(l=60, r=60, t=80, b=80),\n",
    "        plot_bgcolor = 'white',\n",
    "        hovermode = 'x unified',\n",
    "        height = 500,\n",
    "        showlegend = True,\n",
    "        barmode=\"stack\",\n",
    "    )\n",
    "\n",
    "    fig.show()\n",
    "\n",
    "chart_sales_by_period(df)"
   ]
  }
 ],
 "metadata": {
  "kaggle": {
   "accelerator": "none",
   "dataSources": [
    {
     "datasetId": 3720698,
     "sourceId": 6515671,
     "sourceType": "datasetVersion"
    }
   ],
   "dockerImageVersionId": 31040,
   "isGpuEnabled": false,
   "isInternetEnabled": true,
   "language": "python",
   "sourceType": "notebook"
  },
  "kernelspec": {
   "display_name": "Python 3",
   "language": "python",
   "name": "python3"
  },
  "language_info": {
   "codemirror_mode": {
    "name": "ipython",
    "version": 3
   },
   "file_extension": ".py",
   "mimetype": "text/x-python",
   "name": "python",
   "nbconvert_exporter": "python",
   "pygments_lexer": "ipython3",
   "version": "3.11.11"
  },
  "papermill": {
   "default_parameters": {},
   "duration": 12.659142,
   "end_time": "2025-05-27T20:34:33.290096",
   "environment_variables": {},
   "exception": null,
   "input_path": "__notebook__.ipynb",
   "output_path": "__notebook__.ipynb",
   "parameters": {},
   "start_time": "2025-05-27T20:34:20.630954",
   "version": "2.6.0"
  }
 },
 "nbformat": 4,
 "nbformat_minor": 5
}
